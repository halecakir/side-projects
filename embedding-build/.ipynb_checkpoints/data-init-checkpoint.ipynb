{
 "cells": [
  {
   "cell_type": "code",
   "execution_count": 1,
   "metadata": {},
   "outputs": [],
   "source": [
    "import os,sys,inspect\n",
    "current_dir = os.path.dirname(os.path.abspath(inspect.getfile(inspect.currentframe())))\n",
    "parent_dir = os.path.dirname(current_dir)\n",
    "sys.path.insert(0, parent_dir) \n"
   ]
  },
  {
   "cell_type": "code",
   "execution_count": 2,
   "metadata": {},
   "outputs": [
    {
     "name": "stdout",
     "output_type": "stream",
     "text": [
      "\u001b[33mDownloading emoji data ...\u001b[0m\n",
      "\u001b[92m... OK\u001b[0m (Got response in 0.38 seconds)\n",
      "\u001b[33mWriting emoji data to /home/huseyinalecakir/.demoji/codes.json ...\u001b[0m\n",
      "\u001b[92m... OK\u001b[0m\n",
      "\u001b[33mDownloading emoji data ...\u001b[0m\n",
      "\u001b[92m... OK\u001b[0m (Got response in 0.40 seconds)\n",
      "\u001b[33mWriting emoji data to /home/huseyinalecakir/.demoji/codes.json ...\u001b[0m\n",
      "\u001b[92m... OK\u001b[0m\n"
     ]
    }
   ],
   "source": [
    "import csv\n",
    "import demoji\n",
    "demoji.download_codes()\n",
    "\n",
    "from utils.nlp_utils import NLPUtils\n",
    "\n"
   ]
  },
  {
   "cell_type": "code",
   "execution_count": 3,
   "metadata": {},
   "outputs": [],
   "source": [
    "def remove_emoji(line):\n",
    "    return demoji.replace(line, repl=\"\")\n",
    "\n",
    "def is_ascii(s):\n",
    "    return all(ord(c) < 128 for c in s)\n",
    "\n",
    "def has_digit(string):\n",
    "    return any(char.isdigit() for char in string)"
   ]
  },
  {
   "cell_type": "code",
   "execution_count": 4,
   "metadata": {},
   "outputs": [],
   "source": [
    "def preprocess_description(description):\n",
    "    text_data = []\n",
    "    for line in NLPUtils.sentence_tokenization(description):\n",
    "        tokens = NLPUtils.preprocess_sentence(line, stemmer=\"porter\")\n",
    "        if len(tokens) > 1:\n",
    "            text_data.append(tokens)\n",
    "    return text_data"
   ]
  },
  {
   "cell_type": "code",
   "execution_count": null,
   "metadata": {},
   "outputs": [
    {
     "name": "stdout",
     "output_type": "stream",
     "text": [
      "App id 0\n",
      "App id 10000\n"
     ]
    }
   ],
   "source": [
    "apps_path = \"/home/huseyinalecakir/Security/data/big_processed/apps.csv\"\n",
    "\n",
    "with open(apps_path) as stream:\n",
    "    reader = csv.reader(stream)\n",
    "    header = next(reader)\n",
    "    data = []\n",
    "    for i, row in enumerate(reader):\n",
    "        if i % 10000 == 0:\n",
    "            print(\"App id {}\".format(i))\n",
    "        text = row[1]\n",
    "        data.extend(preprocess_description(text))"
   ]
  },
  {
   "cell_type": "code",
   "execution_count": null,
   "metadata": {},
   "outputs": [],
   "source": [
    "with open(\"preprocessed_sentences.txt\", \"w\") as target:\n",
    "    for sentence in data:\n",
    "        for word in sentence:\n",
    "            target.write(word+\" \")\n",
    "        target.write(\"\\n\")\n",
    "    "
   ]
  }
 ],
 "metadata": {
  "kernelspec": {
   "display_name": "Python 3",
   "language": "python",
   "name": "python3"
  },
  "language_info": {
   "codemirror_mode": {
    "name": "ipython",
    "version": 3
   },
   "file_extension": ".py",
   "mimetype": "text/x-python",
   "name": "python",
   "nbconvert_exporter": "python",
   "pygments_lexer": "ipython3",
   "version": "3.7.1"
  }
 },
 "nbformat": 4,
 "nbformat_minor": 2
}
