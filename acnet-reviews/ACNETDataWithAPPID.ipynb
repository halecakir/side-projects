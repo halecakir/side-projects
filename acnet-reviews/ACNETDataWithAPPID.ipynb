{
 "cells": [
  {
   "cell_type": "code",
   "execution_count": 10,
   "metadata": {},
   "outputs": [],
   "source": [
    "import os\n",
    "import pandas as pd"
   ]
  },
  {
   "cell_type": "code",
   "execution_count": 40,
   "metadata": {},
   "outputs": [],
   "source": [
    "DATASET_DIR = os.environ['DATASETS']\n",
    "ACNET_REVIEWS_DIR = os.path.join(DATASET_DIR, \"reviews/acnet-reviews/\")"
   ]
  },
  {
   "cell_type": "code",
   "execution_count": 41,
   "metadata": {},
   "outputs": [],
   "source": [
    "APPLIST = os.path.join(ACNET_REVIEWS_DIR, \"acnet-applist.txt\")\n",
    "ACNET_DATA = os.path.join(DATASET_DIR, \"acnet-data/ACNET_DATASET.csv\")\n"
   ]
  },
  {
   "cell_type": "code",
   "execution_count": 42,
   "metadata": {},
   "outputs": [],
   "source": [
    "app_ids = []\n",
    "with open(APPLIST_FILE) as target:\n",
    "    for line in target:\n",
    "        app_ids.append(line.strip())"
   ]
  },
  {
   "cell_type": "code",
   "execution_count": 43,
   "metadata": {},
   "outputs": [],
   "source": [
    "tagged_train_file = pd.read_csv(ACNET_DATA)"
   ]
  },
  {
   "cell_type": "code",
   "execution_count": 29,
   "metadata": {},
   "outputs": [],
   "source": [
    "i = None \n",
    "for idx, row in tagged_train_file.iterrows():\n",
    "    if i == None:\n",
    "        i = row[\"app_id\"]\n",
    "    \n",
    "    if i == row[\"app_id\"]:\n",
    "        tagged_train_file.loc[idx, \"app_id\"] = app_ids[i]\n",
    "    else:\n",
    "        i = row[\"app_id\"]\n",
    "        tagged_train_file.loc[idx, \"app_id\"] = app_ids[i]\n"
   ]
  },
  {
   "cell_type": "code",
   "execution_count": 38,
   "metadata": {},
   "outputs": [],
   "source": [
    "tagged_train_file.to_csv(ACNET_DATA, index=False)"
   ]
  }
 ],
 "metadata": {
  "kernelspec": {
   "display_name": "Python 3",
   "language": "python",
   "name": "python3"
  },
  "language_info": {
   "codemirror_mode": {
    "name": "ipython",
    "version": 3
   },
   "file_extension": ".py",
   "mimetype": "text/x-python",
   "name": "python",
   "nbconvert_exporter": "python",
   "pygments_lexer": "ipython3",
   "version": "3.7.4"
  }
 },
 "nbformat": 4,
 "nbformat_minor": 2
}
