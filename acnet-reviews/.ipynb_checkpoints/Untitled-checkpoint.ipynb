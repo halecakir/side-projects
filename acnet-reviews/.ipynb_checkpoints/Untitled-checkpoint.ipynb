{
 "cells": [
  {
   "cell_type": "code",
   "execution_count": 1,
   "metadata": {},
   "outputs": [],
   "source": [
    "import os\n",
    "import pandas as pd"
   ]
  },
  {
   "cell_type": "code",
   "execution_count": 2,
   "metadata": {},
   "outputs": [],
   "source": [
    "DATASET_DIR = os.environ['DATASETS']\n",
    "ACNET_REVIEWS_DIR = os.path.join(DATASET_DIR, \"reviews/acnet-reviews/acnet_initialdata-allscores_n100\")"
   ]
  },
  {
   "cell_type": "code",
   "execution_count": 3,
   "metadata": {},
   "outputs": [],
   "source": [
    "ALL_REVIEWS = os.path.join(ACNET_REVIEWS_DIR, \"app_reviews_original.csv\")"
   ]
  },
  {
   "cell_type": "code",
   "execution_count": 4,
   "metadata": {},
   "outputs": [],
   "source": [
    "class Review:\n",
    "    def __init__(self, sentence, score):\n",
    "        self.sentence = sentence\n",
    "        self.preprocessed_sentence = None\n",
    "        self.score = score"
   ]
  },
  {
   "cell_type": "code",
   "execution_count": 7,
   "metadata": {},
   "outputs": [],
   "source": [
    "reviews = {}\n",
    "tagged_train_file = pd.read_csv(ALL_REVIEWS)"
   ]
  },
  {
   "cell_type": "code",
   "execution_count": null,
   "metadata": {},
   "outputs": [],
   "source": [
    "for idx, row in tagged_train_file.iterrows():\n",
    "    app_id, sentence, score = row['application_id'], row[\"review_sentence\"], row[\"score\"]\n",
    "    #self.preprocessed_sentence = NLP\n",
    "    if app_id and sentence and score:\n",
    "        review = Review(sentence, score)\n",
    "        if app_id not in reviews:\n",
    "            reviews[app_id] = []\n",
    "        reviews[app_id].append(review)"
   ]
  }
 ],
 "metadata": {
  "kernelspec": {
   "display_name": "Python 3",
   "language": "python",
   "name": "python3"
  },
  "language_info": {
   "codemirror_mode": {
    "name": "ipython",
    "version": 3
   },
   "file_extension": ".py",
   "mimetype": "text/x-python",
   "name": "python",
   "nbconvert_exporter": "python",
   "pygments_lexer": "ipython3",
   "version": "3.7.4"
  }
 },
 "nbformat": 4,
 "nbformat_minor": 2
}
