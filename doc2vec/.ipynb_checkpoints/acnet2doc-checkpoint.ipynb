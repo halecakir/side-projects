{
 "cells": [
  {
   "cell_type": "code",
   "execution_count": 3,
   "metadata": {},
   "outputs": [],
   "source": [
    "import os\n",
    "import pandas as pd\n",
    "DATASET_DIR = os.environ['DATASETS']"
   ]
  },
  {
   "cell_type": "code",
   "execution_count": 18,
   "metadata": {},
   "outputs": [],
   "source": [
    "def load_row_acnet_file(infile):\n",
    "    #read training data\n",
    "    print(\"Reading Train Sentences\")\n",
    "    tagged_train_file = pd.read_csv(infile)\n",
    "    train_sententence_reports = []\n",
    "    documents = []\n",
    "    ids = set()\n",
    "    prev_app_id = None\n",
    "    for idx, row in tagged_train_file.iterrows():\n",
    "        app_id = row[\"app_id\"]\n",
    "        ids.add(app_id)\n",
    "        sentence = row[\"sentence\"]\n",
    "        \n",
    "        if prev_app_id != app_id:\n",
    "            documents.append([])\n",
    "            if prev_app_id:\n",
    "                if abs(app_id - prev_app_id) != 1:\n",
    "                    print(app_id, prev_app_id)\n",
    "            prev_app_id = app_id\n",
    "        \n",
    "        documents[-1].append(sentence) #later, add processed sentences (e.g. stemming)\n",
    "    return documents, ids"
   ]
  },
  {
   "cell_type": "code",
   "execution_count": 15,
   "metadata": {},
   "outputs": [],
   "source": [
    "AC_NET_IN=os.path.join(DATASET_DIR, \"ac-net/ACNET_DATASET.csv\")\n",
    "AC_NET_RAW_OUT=\"ac-net/acnet_docs_raw.txt\""
   ]
  },
  {
   "cell_type": "code",
   "execution_count": 19,
   "metadata": {},
   "outputs": [
    {
     "name": "stdout",
     "output_type": "stream",
     "text": [
      "Reading Train Sentences\n",
      "364 362\n",
      "875 873\n",
      "882 880\n"
     ]
    }
   ],
   "source": [
    "documents, ids = load_row_acnet_file(AC_NET_IN)"
   ]
  },
  {
   "cell_type": "code",
   "execution_count": 9,
   "metadata": {},
   "outputs": [
    {
     "data": {
      "text/plain": [
       "1414"
      ]
     },
     "execution_count": 9,
     "metadata": {},
     "output_type": "execute_result"
    }
   ],
   "source": [
    "len(ids)"
   ]
  },
  {
   "cell_type": "code",
   "execution_count": 26,
   "metadata": {},
   "outputs": [],
   "source": [
    "with open(AC_NET_RAW_OUT, \"w\") as target:\n",
    "    for doc in documents:\n",
    "        paraghraph = \". \".join(doc)\n",
    "        target.write(paraghraph)\n",
    "        target.write(\"\\n\")"
   ]
  }
 ],
 "metadata": {
  "kernelspec": {
   "display_name": "Python 3",
   "language": "python",
   "name": "python3"
  },
  "language_info": {
   "codemirror_mode": {
    "name": "ipython",
    "version": 3
   },
   "file_extension": ".py",
   "mimetype": "text/x-python",
   "name": "python",
   "nbconvert_exporter": "python",
   "pygments_lexer": "ipython3",
   "version": "3.7.1"
  }
 },
 "nbformat": 4,
 "nbformat_minor": 2
}
