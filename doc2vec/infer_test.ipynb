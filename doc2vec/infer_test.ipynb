{
 "cells": [
  {
   "cell_type": "code",
   "execution_count": 1,
   "metadata": {},
   "outputs": [],
   "source": [
    "import os\n",
    "DATASET_DIR = os.environ['DATASETS']"
   ]
  },
  {
   "cell_type": "code",
   "execution_count": 2,
   "metadata": {},
   "outputs": [],
   "source": [
    "#python example to infer document vectors from trained doc2vec model\n",
    "import gensim.models as g\n",
    "import codecs"
   ]
  },
  {
   "cell_type": "code",
   "execution_count": 3,
   "metadata": {},
   "outputs": [],
   "source": [
    "def create_doc_vectors(model, input_docs, output_vecs):\n",
    "    #inference hyper-parameters\n",
    "    start_alpha=0.01\n",
    "    infer_epoch=1000\n",
    "\n",
    "    #load model\n",
    "    m = g.Doc2Vec.load(model)\n",
    "    input_docs = [ x.strip().split() for x in codecs.open(input_docs, \"r\", \"utf-8\").readlines() ]\n",
    "\n",
    "    #infer test vectors\n",
    "    output = open(output_vecs, \"w\")\n",
    "    for idx, d in enumerate(input_docs):\n",
    "        output.write(str(idx) + \" \" + \" \".join([str(x) for x in m.infer_vector(d, alpha=start_alpha, steps=infer_epoch)]) + \"\\n\" )\n",
    "    output.flush()\n",
    "    output.close()"
   ]
  },
  {
   "cell_type": "code",
   "execution_count": 4,
   "metadata": {},
   "outputs": [],
   "source": [
    "#parameters\n",
    "model=os.path.join(DATASET_DIR, \"doc2vec/enwiki_dbow/doc2vec.bin\")\n",
    "ac_net_raw=\"ac-net/acnet_docs_raw.txt\"\n",
    "ac_net_raw_vectors=\"ac-net/acnet_raw_doc_vectors.txt\"\n",
    "\n"
   ]
  },
  {
   "cell_type": "code",
   "execution_count": 5,
   "metadata": {},
   "outputs": [],
   "source": [
    "create_doc_vectors(model, ac_net_raw, ac_net_raw_vectors)"
   ]
  }
 ],
 "metadata": {
  "kernelspec": {
   "display_name": "Python 3",
   "language": "python",
   "name": "python3"
  },
  "language_info": {
   "codemirror_mode": {
    "name": "ipython",
    "version": 3
   },
   "file_extension": ".py",
   "mimetype": "text/x-python",
   "name": "python",
   "nbconvert_exporter": "python",
   "pygments_lexer": "ipython3",
   "version": "3.7.1"
  }
 },
 "nbformat": 4,
 "nbformat_minor": 2
}
