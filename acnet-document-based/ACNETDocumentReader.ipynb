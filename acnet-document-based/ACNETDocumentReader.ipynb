{
 "cells": [
  {
   "cell_type": "code",
   "execution_count": 8,
   "metadata": {},
   "outputs": [],
   "source": [
    "import os\n",
    "import pandas as pd\n",
    "import sys\n",
    "\n",
    "DATASET_DIR = os.environ['DATASETS']\n",
    "sys.path.append(\"/home/huseyinalecakir/Security/source/PermissionDescriptionFidelity\")"
   ]
  },
  {
   "cell_type": "code",
   "execution_count": 9,
   "metadata": {},
   "outputs": [],
   "source": [
    "from utils.nlp_utils import NLPUtils"
   ]
  },
  {
   "cell_type": "code",
   "execution_count": 10,
   "metadata": {},
   "outputs": [],
   "source": [
    "class DocumentReport:\n",
    "    \"\"\"TODO\"\"\"\n",
    "    def __init__(self, app_id):\n",
    "        self.app_id = app_id\n",
    "        self.mark = False\n",
    "        self.preprocessed_sentences = []\n",
    "        self.sentences = []\n",
    "        self.prediction_result = None"
   ]
  },
  {
   "cell_type": "code",
   "execution_count": 11,
   "metadata": {},
   "outputs": [],
   "source": [
    "def __load_row_acnet_file(infile, gold_permission, stemmer):\n",
    "    print(\"Loading row {} \".format(infile))\n",
    "    #read training data\n",
    "    print(\"Reading Train Sentences\")\n",
    "    tagged_train_file = pd.read_csv(infile)\n",
    "    documents = []\n",
    "    acnet_map = {\"RECORD_AUDIO\" : \"MICROPHONE\", \"READ_CONTACTS\": \"CONTACTS\", \"READ_CALENDAR\": \"CALENDAR\", \"ACCESS_FINE_LOCATION\" : \"LOCATION\" ,\n",
    "    \"CAMERA\" : \"CAMERA\", \"READ_SMS\" : \"SMS\", \"READ_CALL_LOGS\" : \"CALL_LOG\", \"CALL_PHONE\" : \"PHONE\" , \"WRITE_SETTINGS\" : \"SETTINGS\" ,\n",
    "    \"GET_TASKS\" : \"TASKS\"}\\\n",
    "         \n",
    "    for idx, row in tagged_train_file.iterrows():\n",
    "\n",
    "        app_id = int(row[\"app_id\"])\n",
    "        sentence = row[\"sentence\"]\n",
    "        \n",
    "        if documents == []: #if it is the first document\n",
    "            documents.append(DocumentReport(app_id))\n",
    "        elif documents[-1].app_id != app_id: # if it is a new document\n",
    "            documents.append(DocumentReport(app_id))\n",
    "        \n",
    "        if row[acnet_map[gold_permission]] is 1:\n",
    "            documents[-1].mark = True\n",
    "\n",
    "        documents[-1].sentences.append(sentence)\n",
    "        documents[-1].preprocessed_sentences.append(\" \".join(NLPUtils.preprocess_sentence(sentence, stemmer)))\n",
    "\n",
    "    print(\"Loading completed\")\n",
    "    return documents"
   ]
  },
  {
   "cell_type": "code",
   "execution_count": 15,
   "metadata": {},
   "outputs": [],
   "source": [
    "AC_NET_IN = os.path.join(DATASET_DIR, \"acnet-data/ACNET_DATASET.csv\")"
   ]
  },
  {
   "cell_type": "code",
   "execution_count": 26,
   "metadata": {},
   "outputs": [
    {
     "name": "stdout",
     "output_type": "stream",
     "text": [
      "Loading row /home/huseyinalecakir/datasets/acnet-data/ACNET_DATASET.csv \n",
      "Reading Train Sentences\n",
      "Loading completed\n"
     ]
    }
   ],
   "source": [
    "docs = __load_row_acnet_file(AC_NET_IN, \"RECORD_AUDIO\", \"porter\")"
   ]
  },
  {
   "cell_type": "code",
   "execution_count": 30,
   "metadata": {},
   "outputs": [],
   "source": []
  }
 ],
 "metadata": {
  "kernelspec": {
   "display_name": "Python 3",
   "language": "python",
   "name": "python3"
  },
  "language_info": {
   "codemirror_mode": {
    "name": "ipython",
    "version": 3
   },
   "file_extension": ".py",
   "mimetype": "text/x-python",
   "name": "python",
   "nbconvert_exporter": "python",
   "pygments_lexer": "ipython3",
   "version": "3.7.1"
  }
 },
 "nbformat": 4,
 "nbformat_minor": 2
}
