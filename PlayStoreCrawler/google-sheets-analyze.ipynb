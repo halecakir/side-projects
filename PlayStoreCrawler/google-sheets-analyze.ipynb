{
 "cells": [
  {
   "cell_type": "code",
   "execution_count": 1,
   "metadata": {},
   "outputs": [],
   "source": [
    "import gspread\n",
    "from oauth2client.service_account import ServiceAccountCredentials\n",
    "\n",
    "scope = ['https://spreadsheets.google.com/feeds',\n",
    "         'https://www.googleapis.com/auth/drive']\n",
    "\n",
    "credentials = ServiceAccountCredentials.from_json_keyfile_name('credentials.json', scope)\n",
    "\n",
    "gc = gspread.authorize(credentials)\n",
    "\n",
    "wks = gc.open_by_url(\"https://docs.google.com/spreadsheets/d/1t8sDPoS_7QNP18P6wPNZH8ZyvuGjV-LYYSArTobPmpU/edit?usp=sharing\")"
   ]
  },
  {
   "cell_type": "code",
   "execution_count": 2,
   "metadata": {},
   "outputs": [],
   "source": [
    "huseyin = wks.get_worksheet(2)\n",
    "burcu = wks.get_worksheet(3)"
   ]
  },
  {
   "cell_type": "code",
   "execution_count": 3,
   "metadata": {},
   "outputs": [],
   "source": [
    "SENTENCE_IDX = 0\n",
    "ORIGINAL_TAG_IDX = 2\n",
    "HUSEYIN_IDX = 5\n",
    "BURCU_IDX = 5"
   ]
  },
  {
   "cell_type": "code",
   "execution_count": 4,
   "metadata": {},
   "outputs": [],
   "source": [
    "def compare_with_original(sheet, ours):\n",
    "    orig_one_ours_zero = []\n",
    "    orig_zero_ours_one = []\n",
    "    orig_one_ours_one = []\n",
    "    orig_zero_ours_zero = []\n",
    "    for entry_idx, entry in enumerate(sheet.get_all_values()[1:]):\n",
    "        if entry[ORIGINAL_TAG_IDX] != entry[ours]:\n",
    "            if entry[ORIGINAL_TAG_IDX] == '0':\n",
    "                orig_zero_ours_one.append(entry)\n",
    "            else:\n",
    "                orig_one_ours_zero.append(entry)\n",
    "        else:\n",
    "            if entry[ORIGINAL_TAG_IDX] == '0':\n",
    "                orig_zero_ours_zero.append(entry)\n",
    "            else:\n",
    "                orig_one_ours_one.append(entry)\n",
    "    return orig_one_ours_zero, orig_zero_ours_one, orig_one_ours_one, orig_zero_ours_zero"
   ]
  },
  {
   "cell_type": "code",
   "execution_count": 8,
   "metadata": {},
   "outputs": [],
   "source": [
    "def compare_between(sheet1, sheet2, tagger1, tagger2):\n",
    "    tagger1_one_tagger2_zero = []\n",
    "    tagger1_zero_tagger2_one = []\n",
    "    tagger1_one_tagger2_one = []\n",
    "    tagger1_zero_tagger2_zero = []\n",
    "    for entry_idx, (entry1, entry2) in enumerate(zip(sheet1.get_all_values()[1:], sheet2.get_all_values()[1:])):\n",
    "        if entry1[tagger1] != entry2[tagger2]:\n",
    "            if entry2[tagger2] == '1':\n",
    "                tagger1_zero_tagger2_one.append(entry1)\n",
    "            else:\n",
    "                tagger1_one_tagger2_zero.append(entry1)\n",
    "        else:\n",
    "            if entry2[tagger2] == '0':\n",
    "                tagger1_zero_tagger2_zero.append(entry1)\n",
    "            else:\n",
    "                tagger1_one_tagger2_one.append(entry1)\n",
    "    return tagger1_one_tagger2_zero, tagger1_zero_tagger2_one, tagger1_one_tagger2_one, tagger1_zero_tagger2_zero"
   ]
  },
  {
   "cell_type": "code",
   "execution_count": 10,
   "metadata": {},
   "outputs": [
    {
     "name": "stdout",
     "output_type": "stream",
     "text": [
      "Whyper 1 : Huseyin: 0 31\n",
      "Whyper 0 : Huseyin: 1 81\n",
      "Whyper 1 : Huseyin: 1 205\n",
      "Whyper 0 : Huseyin: 0 3062\n",
      "Total :  3379\n",
      "Whyper 1 : Burcu: 0 60\n",
      "Whyper 0 : Burcu: 1 125\n",
      "Whyper 1 : Burcu: 1 176\n",
      "Whyper 0 : Burcu: 0 3018\n",
      "Total :  3379\n"
     ]
    }
   ],
   "source": [
    "orig_one_ours_zero, orig_zero_ours_one, orig_one_ours_one, orig_zero_ours_zero = compare_with_original(huseyin, HUSEYIN_IDX)\n",
    "print(\"Whyper 1 : Huseyin: 0\", len(orig_one_ours_zero))\n",
    "print(\"Whyper 0 : Huseyin: 1\", len(orig_zero_ours_one))\n",
    "print(\"Whyper 1 : Huseyin: 1\", len(orig_one_ours_one))\n",
    "print(\"Whyper 0 : Huseyin: 0\", len(orig_zero_ours_zero))\n",
    "print(\"Total : \", len(orig_one_ours_zero)+len(orig_zero_ours_one)+len(orig_one_ours_one)+len(orig_zero_ours_zero))\n",
    "orig_one_ours_zero, orig_zero_ours_one, orig_one_ours_one, orig_zero_ours_zero = compare_with_original(burcu, BURCU_IDX)\n",
    "print(\"Whyper 1 : Burcu: 0\", len(orig_one_ours_zero))\n",
    "print(\"Whyper 0 : Burcu: 1\", len(orig_zero_ours_one))\n",
    "print(\"Whyper 1 : Burcu: 1\", len(orig_one_ours_one))\n",
    "print(\"Whyper 0 : Burcu: 0\", len(orig_zero_ours_zero))\n",
    "print(\"Total : \", len(orig_one_ours_zero)+len(orig_zero_ours_one)+len(orig_one_ours_one)+len(orig_zero_ours_zero))"
   ]
  },
  {
   "cell_type": "code",
   "execution_count": 11,
   "metadata": {},
   "outputs": [
    {
     "name": "stdout",
     "output_type": "stream",
     "text": [
      "Therefore you will have to maintain your contacts first (e.g. synchronize with Google).\n",
      "It will only work on Launchers which support Scrollable Contacts: Launcher Pro, ADW Launcher, Zeam, Go Launcher, Home+ etc. are all supported Launcher.\n",
      "1) Contact Widget with 2x4\n",
      "2) Contact Widget with 4x4\n",
      "Can also send you list as an SMS message.\n",
      "Fixed a force close in SMS sending.\n",
      "Maps the addresses in your address book, drawing lines and showing distance to each, highlighting your nearest friend as you move.\n",
      "Bookmarks and Contacts shortcuts also available.\n",
      "The contact picture will show up and then clicked will take you to the default \"contact clicked\" scenario.\n",
      "Sending emails to guests is done when putting email addresses in the \"guest\" box when creating an event.\n",
      "Design your own FREE name card, share it with your friends and peers, and store all of your contacts in one place.\n",
      "When a signature is chosen from the list (shown after having clicked the widget) the standard SMS application's create new message activity will be launched and the text and receivers from the signature will automatically be inserted!\n",
      "GO Contact Widget makes you contact your favorite friends just directly on home screen of GO Launcher EX.\n",
      "Start Google Talk chat (Google Talk name must be set for a contact)\n",
      "Share notes via email\n",
      "No longer force closes upon viewing a sent message.\n",
      "Email jobs to yourself or to friends in your contacts list\n",
      "Once you have it, you can just send/receive emails directly on your screen.\n",
      "Send/Receive emails\n",
      "(New) Pull down to get new emails.\n",
      "(Fixed) Some crash issues when opening emails, downloading attachment or sending emails.\n",
      "get customers from phone contacts\n",
      "On some phones only google contacts are displayed.\n",
      "On some phones the contacts are not displayed.\n",
      "ver 2.0 and feedback button to send email to devs\n",
      "Supported contact methods:\n",
      "Quick popup contact method (for Android 2+)\n",
      "dialog send email\n",
      "Call Announcer provides an audible caller id for your Android phone.\n",
      "Incoming SMS messages can also be announced and Read.\n",
      "Set as contact ringtone surpported.\n",
      "mobile phone number.\n",
      "If you have any questions or you want to help SIM Contacts to add support for your language , please email support@needom.com , thanks.\n",
      "Share every search result via Facebook, Twitter or email with friends\n",
      "May not show or delete Facebook contacts depending on phone.\n",
      "View and contact their J.P.Morgan Team\n",
      "Postagram makes it easy to send a printed photo in the mail to yourself, friends or family anywhere in the world.\n",
      "Why does Goodreads need the READ_CONTACTS permission?\n",
      "Optionally tap caller details to open Contact entry (new)\n",
      "Fixed Contact Incomplete message not always displaying\n",
      "This way, you can have share info with business contacts, or rather have a personal card to send out.\n",
      "Generate customer statements and send by email\n",
      "Choose an email template right before sending the invoice\n",
      "Cc or blind copy yourself when sending invoices by email\n",
      "Send as email attachment.\n",
      "This application do not restore contacts!\n",
      "Send the file to your email address.\n",
      "Save a location to your contacts in order to print emails from the native Android Email app\n",
      "Sharing it via email or Facebook!\n",
      "INDISPENSABLE!\n",
      "Share Tips via Twitter, Facebook, LinkedIn, and email!\n",
      "Share recipes via email or Facebook.\n",
      "Share via Email, SMS, Facebook, twitter and so on\n",
      "This app have a lot of sms\n",
      "This app gives you the top 101 romantic, fun, flirty & cute love messages.\n",
      "No more frantic searching for confirmation emails in your inbox or worse yet hunting down that pesky manila folder.\n",
      "When you receive a confirmation email from anywhere you book, simply forward it to plans@tripit.com.\n",
      "You can easily share trip plans with family or colleagues directly, or let Facebook and LinkedIn contacts know when and where you're headed.\n",
      "E-mail your medical team\n",
      "2.01: Remove contact button.\n"
     ]
    }
   ],
   "source": [
    "for entry in orig_one_ours_zero:\n",
    "    print(entry[0])"
   ]
  },
  {
   "cell_type": "code",
   "execution_count": 9,
   "metadata": {},
   "outputs": [
    {
     "name": "stdout",
     "output_type": "stream",
     "text": [
      "Burcu 1 : Huseyin: 0 220\n",
      "Burcu 0 : Huseyin: 1 44\n",
      "Burcu 1 : Huseyin: 1 162\n",
      "Burcu 0 : Huseyin: 0 2953\n",
      "Total :  3379\n"
     ]
    }
   ],
   "source": [
    "tagger1_one_tagger2_zero, tagger1_zero_tagger2_one, tagger1_one_tagger2_one, tagger1_zero_tagger2_zero = compare_between(burcu, huseyin, BURCU_IDX, HUSEYIN_IDX)\n",
    "print(\"Burcu 1 : Huseyin: 0\", len(tagger1_one_tagger2_zero))\n",
    "print(\"Burcu 0 : Huseyin: 1\", len(tagger1_zero_tagger2_one))\n",
    "print(\"Burcu 1 : Huseyin: 1\", len(tagger1_one_tagger2_one))\n",
    "print(\"Burcu 0 : Huseyin: 0\", len(tagger1_zero_tagger2_zero))\n",
    "print(\"Total : \", len(tagger1_one_tagger2_zero)+len(tagger1_zero_tagger2_one)+len(tagger1_one_tagger2_one)+len(tagger1_zero_tagger2_zero))"
   ]
  }
 ],
 "metadata": {
  "kernelspec": {
   "display_name": "Python 3",
   "language": "python",
   "name": "python3"
  },
  "language_info": {
   "codemirror_mode": {
    "name": "ipython",
    "version": 3
   },
   "file_extension": ".py",
   "mimetype": "text/x-python",
   "name": "python",
   "nbconvert_exporter": "python",
   "pygments_lexer": "ipython3",
   "version": "3.7.2"
  }
 },
 "nbformat": 4,
 "nbformat_minor": 2
}
