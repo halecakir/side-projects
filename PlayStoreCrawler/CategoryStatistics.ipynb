{
 "cells": [
  {
   "cell_type": "code",
   "execution_count": 1,
   "metadata": {},
   "outputs": [],
   "source": [
    "final_record_audio_patch = \"/home/huseyinalecakir/Security/data/play_store_data/permissionsList_357.txt\""
   ]
  },
  {
   "cell_type": "code",
   "execution_count": 7,
   "metadata": {},
   "outputs": [],
   "source": [
    "apps = []\n",
    "with open(final_record_audio_patch) as target:\n",
    "    for line in target:\n",
    "        if line.startswith(\"%%\"):\n",
    "            apps.append(line.split(\"%%\")[1].strip())\n",
    "            "
   ]
  },
  {
   "cell_type": "code",
   "execution_count": 10,
   "metadata": {},
   "outputs": [],
   "source": [
    "out_file = \"last_path_record_audio_357.txt\"\n",
    "with open(out_file, \"w\") as target:\n",
    "    for app in apps:\n",
    "        target.write(app+\"\\n\")"
   ]
  },
  {
   "cell_type": "code",
   "execution_count": 11,
   "metadata": {},
   "outputs": [],
   "source": [
    "import requests\n"
   ]
  },
  {
   "cell_type": "code",
   "execution_count": 14,
   "metadata": {},
   "outputs": [],
   "source": [
    "base_url = 'http://localhost:3000/api/apps/'\n",
    "categories = {}\n",
    "for app in apps:\n",
    "    response = requests.get(base_url+app)\n",
    "    if response.status_code == 200:\n",
    "        gid = response.json()[\"genreId\"].upper()\n",
    "        if gid not in categories:\n",
    "            categories[gid] = 0\n",
    "        categories[gid] += 1"
   ]
  },
  {
   "cell_type": "code",
   "execution_count": 20,
   "metadata": {},
   "outputs": [
    {
     "name": "stdout",
     "output_type": "stream",
     "text": [
      "ENTERTAINMENT 46\n",
      "TOOLS 37\n",
      "PHOTOGRAPHY 36\n",
      "EDUCATION 34\n",
      "GAME_CASUAL 25\n",
      "MUSIC_AND_AUDIO 20\n",
      "FINANCE 19\n",
      "BUSINESS 15\n",
      "COMMUNICATION 14\n",
      "SOCIAL 12\n",
      "PRODUCTIVITY 12\n",
      "LIFESTYLE 11\n",
      "VIDEO_PLAYERS 11\n",
      "HEALTH_AND_FITNESS 6\n",
      "TRAVEL_AND_LOCAL 6\n",
      "GAME_MUSIC 5\n",
      "GAME_EDUCATIONAL 5\n",
      "BOOKS_AND_REFERENCE 5\n",
      "SHOPPING 4\n",
      "DATING 4\n",
      "PERSONALIZATION 3\n",
      "GAME_SIMULATION 3\n",
      "PARENTING 2\n",
      "MAPS_AND_NAVIGATION 2\n",
      "HOUSE_AND_HOME 2\n",
      "GAME_ACTION 2\n",
      "NEWS_AND_MAGAZINES 2\n",
      "MEDICAL 1\n",
      "GAME_RACING 1\n",
      "GAME_ARCADE 1\n",
      "FOOD_AND_DRINK 1\n",
      "GAME_STRATEGY 1\n",
      "GAME_PUZZLE 1\n",
      "LIBRARIES_AND_DEMO 1\n",
      "SPORTS 1\n",
      "ART_AND_DESIGN 1\n",
      "GAME_CASINO 1\n",
      "GAME_BOARD 1\n",
      "GAME_CARD 1\n",
      "Total :  355\n"
     ]
    }
   ],
   "source": [
    "import operator\n",
    "sorted_categories = sorted(categories.items(), key=operator.itemgetter(1), reverse=True)\n",
    "\n",
    "total = 0\n",
    "for line in sorted_categories:\n",
    "    total += line[1total]\n",
    "    print(line[0], line[1])\n",
    "print(\"Total : \", total)"
   ]
  }
 ],
 "metadata": {
  "kernelspec": {
   "display_name": "Python 3",
   "language": "python",
   "name": "python3"
  },
  "language_info": {
   "codemirror_mode": {
    "name": "ipython",
    "version": 3
   },
   "file_extension": ".py",
   "mimetype": "text/x-python",
   "name": "python",
   "nbconvert_exporter": "python",
   "pygments_lexer": "ipython3",
   "version": "3.7.1"
  }
 },
 "nbformat": 4,
 "nbformat_minor": 2
}
