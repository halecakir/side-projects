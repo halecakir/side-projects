{
 "cells": [
  {
   "cell_type": "code",
   "execution_count": 18,
   "metadata": {},
   "outputs": [],
   "source": [
    "import requests\n",
    "import time\n",
    "import csv\n",
    "import random\n",
    "from time import sleep\n"
   ]
  },
  {
   "cell_type": "code",
   "execution_count": 2,
   "metadata": {},
   "outputs": [],
   "source": [
    "categories = {\"categories\":[{\"cat_key\":\"OVERALL\",\"name\":\"Overall\"},{\"cat_key\":\"APPLICATION\",\"name\":\"All apps\"},{\"cat_key\":\"GAME\",\"name\":\"All games\"},{\"cat_key\":\"ART_AND_DESIGN\",\"name\":\"Art & Design\"},{\"cat_key\":\"AUTO_AND_VEHICLES\",\"name\":\"Auto & Vehicles\"},{\"cat_key\":\"BEAUTY\",\"name\":\"Beauty\"},{\"cat_key\":\"BOOKS_AND_REFERENCE\",\"name\":\"Books & Reference\"},{\"cat_key\":\"BUSINESS\",\"name\":\"Business\"},{\"cat_key\":\"COMICS\",\"name\":\"Comics\"},{\"cat_key\":\"COMMUNICATION\",\"name\":\"Communication\"},{\"cat_key\":\"DATING\",\"name\":\"Dating\"},{\"cat_key\":\"EDUCATION\",\"name\":\"Education\"},{\"cat_key\":\"ENTERTAINMENT\",\"name\":\"Entertainment\"},{\"cat_key\":\"EVENTS\",\"name\":\"Events\"},{\"cat_key\":\"FINANCE\",\"name\":\"Finance\"},{\"cat_key\":\"FOOD_AND_DRINK\",\"name\":\"Food & Drink\"},{\"cat_key\":\"HEALTH_AND_FITNESS\",\"name\":\"Health & Fitness\"},{\"cat_key\":\"HOUSE_AND_HOME\",\"name\":\"House & Home\"},{\"cat_key\":\"LIFESTYLE\",\"name\":\"Lifestyle\"},{\"cat_key\":\"MAPS_AND_NAVIGATION\",\"name\":\"Maps & Navigation\"},{\"cat_key\":\"MEDICAL\",\"name\":\"Medical\"},{\"cat_key\":\"MUSIC_AND_AUDIO\",\"name\":\"Music & Audio\"},{\"cat_key\":\"NEWS_AND_MAGAZINES\",\"name\":\"News & Magazines\"},{\"cat_key\":\"PARENTING\",\"name\":\"Parenting\"},{\"cat_key\":\"PERSONALIZATION\",\"name\":\"Personalization\"},{\"cat_key\":\"PHOTOGRAPHY\",\"name\":\"Photography\"},{\"cat_key\":\"PRODUCTIVITY\",\"name\":\"Productivity\"},{\"cat_key\":\"SHOPPING\",\"name\":\"Shopping\"},{\"cat_key\":\"SOCIAL\",\"name\":\"Social\"},{\"cat_key\":\"SPORTS\",\"name\":\"Sports\"},{\"cat_key\":\"TOOLS\",\"name\":\"Tools\"},{\"cat_key\":\"TRAVEL_AND_LOCAL\",\"name\":\"Travel & Local\"},{\"cat_key\":\"VIDEO_PLAYERS\",\"name\":\"Video Players & Editors\"},{\"cat_key\":\"WEATHER\",\"name\":\"Weather\"},{\"cat_key\":\"LIBRARIES_AND_DEMO\",\"name\":\"Libraries & Demo\"},{\"cat_key\":\"GAME_ARCADE\",\"name\":\"Arcade\"},{\"cat_key\":\"GAME_PUZZLE\",\"name\":\"Puzzle\"},{\"cat_key\":\"GAME_CARD\",\"name\":\"Cards\"},{\"cat_key\":\"GAME_CASUAL\",\"name\":\"Casual\"},{\"cat_key\":\"GAME_RACING\",\"name\":\"Racing\"},{\"cat_key\":\"GAME_SPORTS\",\"name\":\"Sport Games\"},{\"cat_key\":\"GAME_ACTION\",\"name\":\"Action\"},{\"cat_key\":\"GAME_ADVENTURE\",\"name\":\"Adventure\"},{\"cat_key\":\"GAME_BOARD\",\"name\":\"Board\"},{\"cat_key\":\"GAME_CASINO\",\"name\":\"Casino\"},{\"cat_key\":\"GAME_EDUCATIONAL\",\"name\":\"Educational\"},{\"cat_key\":\"GAME_MUSIC\",\"name\":\"Music Games\"},{\"cat_key\":\"GAME_ROLE_PLAYING\",\"name\":\"Role Playing\"},{\"cat_key\":\"GAME_SIMULATION\",\"name\":\"Simulation\"},{\"cat_key\":\"GAME_STRATEGY\",\"name\":\"Strategy\"},{\"cat_key\":\"GAME_TRIVIA\",\"name\":\"Trivia\"},{\"cat_key\":\"GAME_WORD\",\"name\":\"Word Games\"},{\"cat_key\":\"ANDROID_WEAR\",\"name\":\"Android Wear\"},{\"cat_key\":\"FAMILY\",\"name\":\"Family All Ages\"},{\"cat_key\":\"FAMILY_UNDER_5\",\"name\":\"Family Ages 5 & Under\"},{\"cat_key\":\"FAMILY_6_TO_8\",\"name\":\"Family Ages 6-8\"},{\"cat_key\":\"FAMILY_9_AND_UP\",\"name\":\"Family Ages 9 & Up\"},{\"cat_key\":\"FAMILY_ACTION\",\"name\":\"Family Action\"},{\"cat_key\":\"FAMILY_BRAINGAMES\",\"name\":\"Family Brain Games\"},{\"cat_key\":\"FAMILY_CREATE\",\"name\":\"Family Create\"},{\"cat_key\":\"FAMILY_EDUCATION\",\"name\":\"Family Education\"},{\"cat_key\":\"FAMILY_MUSICVIDEO\",\"name\":\"Family Music & Video\"},{\"cat_key\":\"FAMILY_PRETEND\",\"name\":\"Family Pretend Play\"}]}"
   ]
  },
  {
   "cell_type": "code",
   "execution_count": 3,
   "metadata": {},
   "outputs": [],
   "source": [
    "#category_keys = [cat[\"cat_key\"] for cat in categories[\"categories\n",
    "category_keys = [\"GAME_TRIVIA\", \"HEALTH_AND_FITNESS\", \"PARENTING\", \"BOOKS_AND_REFERENCE\", \"GAME_MUSIC\", \"SPORTS\", \"GAME_EDUCATIONAL\", \"MEDICAL\", \"LIBRARIES_AND_DEMO\", \"GAME_CARD\", \"FOOD_AND_DRINK\", \"GAME_SIMULATION\", \"GAME_SPORTS\", \"GAME_ADVENTURE\", \"EVENTS\", \"ART_AND_DESIGN\", \"AUTO_AND_VEHICLES\", \"GAME_RACING\", \"GAME_PUZZLE\", \"NOT_FOUND\", \"BEAUTY\", \"COMICS\", \"GAME_ARCADE\"]"
   ]
  },
  {
   "cell_type": "code",
   "execution_count": 4,
   "metadata": {},
   "outputs": [],
   "source": [
    "def get_top_free_applications(categories):\n",
    "    def per_category_top_free(category):\n",
    "        waiting_urls = set()\n",
    "        url = 'http://localhost:3000/api/apps/?collection=topselling_free&category={}&lang=en'.format(category)\n",
    "        #top free applications\n",
    "        response = requests.get(url)\n",
    "        if response.status_code == 200:\n",
    "            for app in response.json()[\"results\"]:\n",
    "                waiting_urls.add(app[\"url\"])\n",
    "        else:\n",
    "            print(\"Request Error\")\n",
    "        return waiting_urls\n",
    "    all_top_free_apps = set()\n",
    "    for category in categories:\n",
    "        all_top_free_apps.update(per_category_top_free(category))\n",
    "    return all_top_free_apps"
   ]
  },
  {
   "cell_type": "code",
   "execution_count": 5,
   "metadata": {},
   "outputs": [],
   "source": [
    "def get_app_category(app_id):\n",
    "    base_url = 'http://localhost:3000/api/apps/'\n",
    "    response = requests.get(base_url+app_id)\n",
    "    if response.status_code == 200:\n",
    "        gid = response.json()[\"genreId\"].upper()\n",
    "        return gid\n",
    "    else:\n",
    "        print(app_id, \" category cannot be found\")\n",
    "        return \"NOT_FOUND\""
   ]
  },
  {
   "cell_type": "code",
   "execution_count": 6,
   "metadata": {},
   "outputs": [],
   "source": [
    "import pandas as pd\n",
    "def application_list(filename, sheetname):\n",
    "    df = pd.read_excel(filename, sheet_name=sheetname)\n",
    "    data = set()\n",
    "   \n",
    "    for index, row in df.iterrows():\n",
    "        if row[\"Sentences\"].startswith(\"##\"):\n",
    "            app_id = row[\"Sentences\"].split(\"##\")[1]\n",
    "            data.add(app_id)\n",
    "    return data"
   ]
  },
  {
   "cell_type": "code",
   "execution_count": 7,
   "metadata": {},
   "outputs": [
    {
     "name": "stdout",
     "output_type": "stream",
     "text": [
      "Request Error\n"
     ]
    }
   ],
   "source": [
    "dowloaded_list = application_list(\"SEVIL.xlsx\", \"Sheet1\")\n",
    "top_free_apps = get_top_free_applications(category_keys)"
   ]
  },
  {
   "cell_type": "code",
   "execution_count": 15,
   "metadata": {},
   "outputs": [],
   "source": [
    "from bs4 import BeautifulSoup\n",
    "\n",
    "def get_similar_ids(app_id):\n",
    "    print(app_id)\n",
    "    sleep(0.1)\n",
    "    page = requests.get(\"https://play.google.com/store/apps/details?id={}\".format(app_id))\n",
    "    soup = BeautifulSoup(page.content, 'html.parser')\n",
    "    href = soup.find(class_='LkLjZd ScJHi U8Ww7d xjAeve nMZKrb id-track-click ')\n",
    "    if href != None:\n",
    "        href = href[\"href\"]\n",
    "        sleep(0.2)\n",
    "        page = requests.get(href)\n",
    "        soup = BeautifulSoup(page.content, 'html.parser')\n",
    "        similars = []\n",
    "        for link in soup.find_all(class_=\"JC71ub\"):\n",
    "            similars.append(link['href'].split(\"=\")[1])\n",
    "        return similars\n",
    "    else:\n",
    "        return []"
   ]
  },
  {
   "cell_type": "code",
   "execution_count": 16,
   "metadata": {},
   "outputs": [],
   "source": [
    "def get_app_ids(top_free_apps):\n",
    "    waiting_urls = list(top_free_apps)\n",
    "    random.shuffle(waiting_urls)\n",
    "    waiting_urls_unique_check = set([url for url in waiting_urls])\n",
    "    app_ids = set()\n",
    "\n",
    "    \n",
    "    counter = 0\n",
    "    start_time = time.time()\n",
    "    while (len(app_ids) + len(waiting_urls)) < 100000:\n",
    "        if counter % 10 == 0:\n",
    "            elapsed_time = time.time() - start_time\n",
    "            print(\"Total number of apps\", len(app_ids) + len(waiting_urls))\n",
    "            print(\"Collected app ids\", len(app_ids))\n",
    "            print(\"Elapsed time up to now is {}\".format(elapsed_time))\n",
    "        try:\n",
    "            url = waiting_urls.pop()\n",
    "            waiting_urls_unique_check.remove(url)\n",
    "        except Exception:\n",
    "            print(\"All linked applications are traversed\")\n",
    "            break\n",
    "\n",
    "        #add apk id if it is free, popular, and has longer description than 500 characters\n",
    "        response = requests.get(url)\n",
    "        if response.status_code == 200:\n",
    "            json = response.json()\n",
    "            if json[\"minInstalls\"] > 10000 and json[\"priceText\"] == \"Free\" and len(json[\"description\"]) > 500:\n",
    "                if url.split('/')[-1] not in app_ids:\n",
    "                    response = requests.get(url+\"/permissions\")\n",
    "                    if response.status_code == 200:\n",
    "                        json = response.json()\n",
    "                        exist = False\n",
    "                        for line in json[\"results\"]:\n",
    "                            if \"record audio\" in line[\"permission\"]:\n",
    "                                app_ids.add(url.split('/')[-1] )\n",
    "                                application_id = url.split('/')[-1]\n",
    "                                cat = get_app_category(application_id)\n",
    "                                with open(\"RECORD_AUDIO/record_audio_{}.txt\".format(cat), \"a\") as target:\n",
    "                                    if application_id not in dowloaded_list:\n",
    "                                        target.write(application_id + \"\\n\")\n",
    "                                \n",
    "\n",
    "        #add similar app urls\n",
    "        \"\"\"\n",
    "        response = requests.get(url + '/similar')\n",
    "        similar_count = 0\n",
    "        if response.status_code == 200:\n",
    "            for app in response.json()[\"results\"]:\n",
    "                similar_count += 1\n",
    "                if app[\"appId\"] not in app_ids:\n",
    "                    \n",
    "                    if app[\"url\"] not in waiting_urls_unique_check:\n",
    "                        \n",
    "                        waiting_urls_unique_check.add(app[\"url\"])\n",
    "                        waiting_urls.append(app[\"url\"])\n",
    "        else:\n",
    "            print(\"ERROR\")\n",
    "        print(\"Similar count for {} is {}\".format(url, similar_count))\n",
    "        \"\"\"\n",
    "        for sim_id in get_similar_ids(url.split(\"/\")[-1]):\n",
    "            sim_id = \"http://localhost:3000/api/apps/\" + sim_id\n",
    "            if sim_id not in waiting_urls_unique_check:\n",
    "                waiting_urls_unique_check.add(sim_id)\n",
    "                waiting_urls.append(sim_id)\n",
    "        random.shuffle(waiting_urls)\n",
    "        counter += 1\n",
    "\n",
    "    for url in waiting_urls:\n",
    "        response = requests.get(url)\n",
    "        if response.status_code == 200:\n",
    "            json = response.json()\n",
    "            if json[\"minInstalls\"] > 10000 and json[\"priceText\"] == \"Free\" and len(json[\"description\"]) > 500:\n",
    "                if url.split('/')[-1] not in app_ids:\n",
    "                    app_ids.add(url.split('/')[-1] )\n",
    "                    cat = get_app_category(application_id)\n",
    "                    with open(\"RECORD_AUDIO/record_audio_{}.txt\".format(cat), \"a\") as target:\n",
    "                        if application_id not in dowloaded_list:\n",
    "                            target.write(application_id + \"\\n\")"
   ]
  },
  {
   "cell_type": "code",
   "execution_count": 17,
   "metadata": {
    "scrolled": true
   },
   "outputs": [
    {
     "name": "stdout",
     "output_type": "stream",
     "text": [
      "Total number of apps 1320\n",
      "Collected app ids 0\n",
      "Elapsed time up to now is 3.337860107421875e-06\n",
      "net.mobilecraft.realbasketball\n",
      "com.nextgames.android.ourworld\n"
     ]
    },
    {
     "ename": "ConnectionError",
     "evalue": "HTTPSConnectionPool(host='play.google.com', port=443): Max retries exceeded with url: /store/apps/details?id=com.nextgames.android.ourworld (Caused by NewConnectionError('<urllib3.connection.VerifiedHTTPSConnection object at 0x7f5245aa0518>: Failed to establish a new connection: [Errno 101] Network is unreachable'))",
     "output_type": "error",
     "traceback": [
      "\u001b[0;31m---------------------------------------------------------------------------\u001b[0m",
      "\u001b[0;31mOSError\u001b[0m                                   Traceback (most recent call last)",
      "\u001b[0;32m~/anaconda3/lib/python3.7/site-packages/urllib3/connection.py\u001b[0m in \u001b[0;36m_new_conn\u001b[0;34m(self)\u001b[0m\n\u001b[1;32m    158\u001b[0m             conn = connection.create_connection(\n\u001b[0;32m--> 159\u001b[0;31m                 (self._dns_host, self.port), self.timeout, **extra_kw)\n\u001b[0m\u001b[1;32m    160\u001b[0m \u001b[0;34m\u001b[0m\u001b[0m\n",
      "\u001b[0;32m~/anaconda3/lib/python3.7/site-packages/urllib3/util/connection.py\u001b[0m in \u001b[0;36mcreate_connection\u001b[0;34m(address, timeout, source_address, socket_options)\u001b[0m\n\u001b[1;32m     79\u001b[0m     \u001b[0;32mif\u001b[0m \u001b[0merr\u001b[0m \u001b[0;32mis\u001b[0m \u001b[0;32mnot\u001b[0m \u001b[0;32mNone\u001b[0m\u001b[0;34m:\u001b[0m\u001b[0;34m\u001b[0m\u001b[0;34m\u001b[0m\u001b[0m\n\u001b[0;32m---> 80\u001b[0;31m         \u001b[0;32mraise\u001b[0m \u001b[0merr\u001b[0m\u001b[0;34m\u001b[0m\u001b[0;34m\u001b[0m\u001b[0m\n\u001b[0m\u001b[1;32m     81\u001b[0m \u001b[0;34m\u001b[0m\u001b[0m\n",
      "\u001b[0;32m~/anaconda3/lib/python3.7/site-packages/urllib3/util/connection.py\u001b[0m in \u001b[0;36mcreate_connection\u001b[0;34m(address, timeout, source_address, socket_options)\u001b[0m\n\u001b[1;32m     69\u001b[0m                 \u001b[0msock\u001b[0m\u001b[0;34m.\u001b[0m\u001b[0mbind\u001b[0m\u001b[0;34m(\u001b[0m\u001b[0msource_address\u001b[0m\u001b[0;34m)\u001b[0m\u001b[0;34m\u001b[0m\u001b[0;34m\u001b[0m\u001b[0m\n\u001b[0;32m---> 70\u001b[0;31m             \u001b[0msock\u001b[0m\u001b[0;34m.\u001b[0m\u001b[0mconnect\u001b[0m\u001b[0;34m(\u001b[0m\u001b[0msa\u001b[0m\u001b[0;34m)\u001b[0m\u001b[0;34m\u001b[0m\u001b[0;34m\u001b[0m\u001b[0m\n\u001b[0m\u001b[1;32m     71\u001b[0m             \u001b[0;32mreturn\u001b[0m \u001b[0msock\u001b[0m\u001b[0;34m\u001b[0m\u001b[0;34m\u001b[0m\u001b[0m\n",
      "\u001b[0;31mOSError\u001b[0m: [Errno 101] Network is unreachable",
      "\nDuring handling of the above exception, another exception occurred:\n",
      "\u001b[0;31mNewConnectionError\u001b[0m                        Traceback (most recent call last)",
      "\u001b[0;32m~/anaconda3/lib/python3.7/site-packages/urllib3/connectionpool.py\u001b[0m in \u001b[0;36murlopen\u001b[0;34m(self, method, url, body, headers, retries, redirect, assert_same_host, timeout, pool_timeout, release_conn, chunked, body_pos, **response_kw)\u001b[0m\n\u001b[1;32m    599\u001b[0m                                                   \u001b[0mbody\u001b[0m\u001b[0;34m=\u001b[0m\u001b[0mbody\u001b[0m\u001b[0;34m,\u001b[0m \u001b[0mheaders\u001b[0m\u001b[0;34m=\u001b[0m\u001b[0mheaders\u001b[0m\u001b[0;34m,\u001b[0m\u001b[0;34m\u001b[0m\u001b[0;34m\u001b[0m\u001b[0m\n\u001b[0;32m--> 600\u001b[0;31m                                                   chunked=chunked)\n\u001b[0m\u001b[1;32m    601\u001b[0m \u001b[0;34m\u001b[0m\u001b[0m\n",
      "\u001b[0;32m~/anaconda3/lib/python3.7/site-packages/urllib3/connectionpool.py\u001b[0m in \u001b[0;36m_make_request\u001b[0;34m(self, conn, method, url, timeout, chunked, **httplib_request_kw)\u001b[0m\n\u001b[1;32m    342\u001b[0m         \u001b[0;32mtry\u001b[0m\u001b[0;34m:\u001b[0m\u001b[0;34m\u001b[0m\u001b[0;34m\u001b[0m\u001b[0m\n\u001b[0;32m--> 343\u001b[0;31m             \u001b[0mself\u001b[0m\u001b[0;34m.\u001b[0m\u001b[0m_validate_conn\u001b[0m\u001b[0;34m(\u001b[0m\u001b[0mconn\u001b[0m\u001b[0;34m)\u001b[0m\u001b[0;34m\u001b[0m\u001b[0;34m\u001b[0m\u001b[0m\n\u001b[0m\u001b[1;32m    344\u001b[0m         \u001b[0;32mexcept\u001b[0m \u001b[0;34m(\u001b[0m\u001b[0mSocketTimeout\u001b[0m\u001b[0;34m,\u001b[0m \u001b[0mBaseSSLError\u001b[0m\u001b[0;34m)\u001b[0m \u001b[0;32mas\u001b[0m \u001b[0me\u001b[0m\u001b[0;34m:\u001b[0m\u001b[0;34m\u001b[0m\u001b[0;34m\u001b[0m\u001b[0m\n",
      "\u001b[0;32m~/anaconda3/lib/python3.7/site-packages/urllib3/connectionpool.py\u001b[0m in \u001b[0;36m_validate_conn\u001b[0;34m(self, conn)\u001b[0m\n\u001b[1;32m    838\u001b[0m         \u001b[0;32mif\u001b[0m \u001b[0;32mnot\u001b[0m \u001b[0mgetattr\u001b[0m\u001b[0;34m(\u001b[0m\u001b[0mconn\u001b[0m\u001b[0;34m,\u001b[0m \u001b[0;34m'sock'\u001b[0m\u001b[0;34m,\u001b[0m \u001b[0;32mNone\u001b[0m\u001b[0;34m)\u001b[0m\u001b[0;34m:\u001b[0m  \u001b[0;31m# AppEngine might not have  `.sock`\u001b[0m\u001b[0;34m\u001b[0m\u001b[0;34m\u001b[0m\u001b[0m\n\u001b[0;32m--> 839\u001b[0;31m             \u001b[0mconn\u001b[0m\u001b[0;34m.\u001b[0m\u001b[0mconnect\u001b[0m\u001b[0;34m(\u001b[0m\u001b[0;34m)\u001b[0m\u001b[0;34m\u001b[0m\u001b[0;34m\u001b[0m\u001b[0m\n\u001b[0m\u001b[1;32m    840\u001b[0m \u001b[0;34m\u001b[0m\u001b[0m\n",
      "\u001b[0;32m~/anaconda3/lib/python3.7/site-packages/urllib3/connection.py\u001b[0m in \u001b[0;36mconnect\u001b[0;34m(self)\u001b[0m\n\u001b[1;32m    300\u001b[0m         \u001b[0;31m# Add certificate verification\u001b[0m\u001b[0;34m\u001b[0m\u001b[0;34m\u001b[0m\u001b[0;34m\u001b[0m\u001b[0m\n\u001b[0;32m--> 301\u001b[0;31m         \u001b[0mconn\u001b[0m \u001b[0;34m=\u001b[0m \u001b[0mself\u001b[0m\u001b[0;34m.\u001b[0m\u001b[0m_new_conn\u001b[0m\u001b[0;34m(\u001b[0m\u001b[0;34m)\u001b[0m\u001b[0;34m\u001b[0m\u001b[0;34m\u001b[0m\u001b[0m\n\u001b[0m\u001b[1;32m    302\u001b[0m         \u001b[0mhostname\u001b[0m \u001b[0;34m=\u001b[0m \u001b[0mself\u001b[0m\u001b[0;34m.\u001b[0m\u001b[0mhost\u001b[0m\u001b[0;34m\u001b[0m\u001b[0;34m\u001b[0m\u001b[0m\n",
      "\u001b[0;32m~/anaconda3/lib/python3.7/site-packages/urllib3/connection.py\u001b[0m in \u001b[0;36m_new_conn\u001b[0;34m(self)\u001b[0m\n\u001b[1;32m    167\u001b[0m             raise NewConnectionError(\n\u001b[0;32m--> 168\u001b[0;31m                 self, \"Failed to establish a new connection: %s\" % e)\n\u001b[0m\u001b[1;32m    169\u001b[0m \u001b[0;34m\u001b[0m\u001b[0m\n",
      "\u001b[0;31mNewConnectionError\u001b[0m: <urllib3.connection.VerifiedHTTPSConnection object at 0x7f5245aa0518>: Failed to establish a new connection: [Errno 101] Network is unreachable",
      "\nDuring handling of the above exception, another exception occurred:\n",
      "\u001b[0;31mMaxRetryError\u001b[0m                             Traceback (most recent call last)",
      "\u001b[0;32m~/anaconda3/lib/python3.7/site-packages/requests/adapters.py\u001b[0m in \u001b[0;36msend\u001b[0;34m(self, request, stream, timeout, verify, cert, proxies)\u001b[0m\n\u001b[1;32m    448\u001b[0m                     \u001b[0mretries\u001b[0m\u001b[0;34m=\u001b[0m\u001b[0mself\u001b[0m\u001b[0;34m.\u001b[0m\u001b[0mmax_retries\u001b[0m\u001b[0;34m,\u001b[0m\u001b[0;34m\u001b[0m\u001b[0;34m\u001b[0m\u001b[0m\n\u001b[0;32m--> 449\u001b[0;31m                     \u001b[0mtimeout\u001b[0m\u001b[0;34m=\u001b[0m\u001b[0mtimeout\u001b[0m\u001b[0;34m\u001b[0m\u001b[0;34m\u001b[0m\u001b[0m\n\u001b[0m\u001b[1;32m    450\u001b[0m                 )\n",
      "\u001b[0;32m~/anaconda3/lib/python3.7/site-packages/urllib3/connectionpool.py\u001b[0m in \u001b[0;36murlopen\u001b[0;34m(self, method, url, body, headers, retries, redirect, assert_same_host, timeout, pool_timeout, release_conn, chunked, body_pos, **response_kw)\u001b[0m\n\u001b[1;32m    637\u001b[0m             retries = retries.increment(method, url, error=e, _pool=self,\n\u001b[0;32m--> 638\u001b[0;31m                                         _stacktrace=sys.exc_info()[2])\n\u001b[0m\u001b[1;32m    639\u001b[0m             \u001b[0mretries\u001b[0m\u001b[0;34m.\u001b[0m\u001b[0msleep\u001b[0m\u001b[0;34m(\u001b[0m\u001b[0;34m)\u001b[0m\u001b[0;34m\u001b[0m\u001b[0;34m\u001b[0m\u001b[0m\n",
      "\u001b[0;32m~/anaconda3/lib/python3.7/site-packages/urllib3/util/retry.py\u001b[0m in \u001b[0;36mincrement\u001b[0;34m(self, method, url, response, error, _pool, _stacktrace)\u001b[0m\n\u001b[1;32m    397\u001b[0m         \u001b[0;32mif\u001b[0m \u001b[0mnew_retry\u001b[0m\u001b[0;34m.\u001b[0m\u001b[0mis_exhausted\u001b[0m\u001b[0;34m(\u001b[0m\u001b[0;34m)\u001b[0m\u001b[0;34m:\u001b[0m\u001b[0;34m\u001b[0m\u001b[0;34m\u001b[0m\u001b[0m\n\u001b[0;32m--> 398\u001b[0;31m             \u001b[0;32mraise\u001b[0m \u001b[0mMaxRetryError\u001b[0m\u001b[0;34m(\u001b[0m\u001b[0m_pool\u001b[0m\u001b[0;34m,\u001b[0m \u001b[0murl\u001b[0m\u001b[0;34m,\u001b[0m \u001b[0merror\u001b[0m \u001b[0;32mor\u001b[0m \u001b[0mResponseError\u001b[0m\u001b[0;34m(\u001b[0m\u001b[0mcause\u001b[0m\u001b[0;34m)\u001b[0m\u001b[0;34m)\u001b[0m\u001b[0;34m\u001b[0m\u001b[0;34m\u001b[0m\u001b[0m\n\u001b[0m\u001b[1;32m    399\u001b[0m \u001b[0;34m\u001b[0m\u001b[0m\n",
      "\u001b[0;31mMaxRetryError\u001b[0m: HTTPSConnectionPool(host='play.google.com', port=443): Max retries exceeded with url: /store/apps/details?id=com.nextgames.android.ourworld (Caused by NewConnectionError('<urllib3.connection.VerifiedHTTPSConnection object at 0x7f5245aa0518>: Failed to establish a new connection: [Errno 101] Network is unreachable'))",
      "\nDuring handling of the above exception, another exception occurred:\n",
      "\u001b[0;31mConnectionError\u001b[0m                           Traceback (most recent call last)",
      "\u001b[0;32m<ipython-input-17-c301ab768dc9>\u001b[0m in \u001b[0;36m<module>\u001b[0;34m\u001b[0m\n\u001b[0;32m----> 1\u001b[0;31m \u001b[0mget_app_ids\u001b[0m\u001b[0;34m(\u001b[0m\u001b[0mtop_free_apps\u001b[0m\u001b[0;34m)\u001b[0m\u001b[0;34m\u001b[0m\u001b[0;34m\u001b[0m\u001b[0m\n\u001b[0m",
      "\u001b[0;32m<ipython-input-16-1d10a76722c6>\u001b[0m in \u001b[0;36mget_app_ids\u001b[0;34m(top_free_apps)\u001b[0m\n\u001b[1;32m     58\u001b[0m         \u001b[0mprint\u001b[0m\u001b[0;34m(\u001b[0m\u001b[0;34m\"Similar count for {} is {}\"\u001b[0m\u001b[0;34m.\u001b[0m\u001b[0mformat\u001b[0m\u001b[0;34m(\u001b[0m\u001b[0murl\u001b[0m\u001b[0;34m,\u001b[0m \u001b[0msimilar_count\u001b[0m\u001b[0;34m)\u001b[0m\u001b[0;34m)\u001b[0m\u001b[0;34m\u001b[0m\u001b[0;34m\u001b[0m\u001b[0m\n\u001b[1;32m     59\u001b[0m         \"\"\"\n\u001b[0;32m---> 60\u001b[0;31m         \u001b[0;32mfor\u001b[0m \u001b[0msim_id\u001b[0m \u001b[0;32min\u001b[0m \u001b[0mget_similar_ids\u001b[0m\u001b[0;34m(\u001b[0m\u001b[0murl\u001b[0m\u001b[0;34m.\u001b[0m\u001b[0msplit\u001b[0m\u001b[0;34m(\u001b[0m\u001b[0;34m\"/\"\u001b[0m\u001b[0;34m)\u001b[0m\u001b[0;34m[\u001b[0m\u001b[0;34m-\u001b[0m\u001b[0;36m1\u001b[0m\u001b[0;34m]\u001b[0m\u001b[0;34m)\u001b[0m\u001b[0;34m:\u001b[0m\u001b[0;34m\u001b[0m\u001b[0;34m\u001b[0m\u001b[0m\n\u001b[0m\u001b[1;32m     61\u001b[0m             \u001b[0msim_id\u001b[0m \u001b[0;34m=\u001b[0m \u001b[0;34m\"http://localhost:3000/api/apps/\"\u001b[0m \u001b[0;34m+\u001b[0m \u001b[0msim_id\u001b[0m\u001b[0;34m\u001b[0m\u001b[0;34m\u001b[0m\u001b[0m\n\u001b[1;32m     62\u001b[0m             \u001b[0;32mif\u001b[0m \u001b[0msim_id\u001b[0m \u001b[0;32mnot\u001b[0m \u001b[0;32min\u001b[0m \u001b[0mwaiting_urls_unique_check\u001b[0m\u001b[0;34m:\u001b[0m\u001b[0;34m\u001b[0m\u001b[0;34m\u001b[0m\u001b[0m\n",
      "\u001b[0;32m<ipython-input-15-9a2dde5159b9>\u001b[0m in \u001b[0;36mget_similar_ids\u001b[0;34m(app_id)\u001b[0m\n\u001b[1;32m      3\u001b[0m \u001b[0;32mdef\u001b[0m \u001b[0mget_similar_ids\u001b[0m\u001b[0;34m(\u001b[0m\u001b[0mapp_id\u001b[0m\u001b[0;34m)\u001b[0m\u001b[0;34m:\u001b[0m\u001b[0;34m\u001b[0m\u001b[0;34m\u001b[0m\u001b[0m\n\u001b[1;32m      4\u001b[0m     \u001b[0mprint\u001b[0m\u001b[0;34m(\u001b[0m\u001b[0mapp_id\u001b[0m\u001b[0;34m)\u001b[0m\u001b[0;34m\u001b[0m\u001b[0;34m\u001b[0m\u001b[0m\n\u001b[0;32m----> 5\u001b[0;31m     \u001b[0mpage\u001b[0m \u001b[0;34m=\u001b[0m \u001b[0mrequests\u001b[0m\u001b[0;34m.\u001b[0m\u001b[0mget\u001b[0m\u001b[0;34m(\u001b[0m\u001b[0;34m\"https://play.google.com/store/apps/details?id={}\"\u001b[0m\u001b[0;34m.\u001b[0m\u001b[0mformat\u001b[0m\u001b[0;34m(\u001b[0m\u001b[0mapp_id\u001b[0m\u001b[0;34m)\u001b[0m\u001b[0;34m)\u001b[0m\u001b[0;34m\u001b[0m\u001b[0;34m\u001b[0m\u001b[0m\n\u001b[0m\u001b[1;32m      6\u001b[0m     \u001b[0msoup\u001b[0m \u001b[0;34m=\u001b[0m \u001b[0mBeautifulSoup\u001b[0m\u001b[0;34m(\u001b[0m\u001b[0mpage\u001b[0m\u001b[0;34m.\u001b[0m\u001b[0mcontent\u001b[0m\u001b[0;34m,\u001b[0m \u001b[0;34m'html.parser'\u001b[0m\u001b[0;34m)\u001b[0m\u001b[0;34m\u001b[0m\u001b[0;34m\u001b[0m\u001b[0m\n\u001b[1;32m      7\u001b[0m     \u001b[0mhref\u001b[0m \u001b[0;34m=\u001b[0m \u001b[0msoup\u001b[0m\u001b[0;34m.\u001b[0m\u001b[0mfind\u001b[0m\u001b[0;34m(\u001b[0m\u001b[0mclass_\u001b[0m\u001b[0;34m=\u001b[0m\u001b[0;34m'LkLjZd ScJHi U8Ww7d xjAeve nMZKrb id-track-click '\u001b[0m\u001b[0;34m)\u001b[0m\u001b[0;34m\u001b[0m\u001b[0;34m\u001b[0m\u001b[0m\n",
      "\u001b[0;32m~/anaconda3/lib/python3.7/site-packages/requests/api.py\u001b[0m in \u001b[0;36mget\u001b[0;34m(url, params, **kwargs)\u001b[0m\n\u001b[1;32m     73\u001b[0m \u001b[0;34m\u001b[0m\u001b[0m\n\u001b[1;32m     74\u001b[0m     \u001b[0mkwargs\u001b[0m\u001b[0;34m.\u001b[0m\u001b[0msetdefault\u001b[0m\u001b[0;34m(\u001b[0m\u001b[0;34m'allow_redirects'\u001b[0m\u001b[0;34m,\u001b[0m \u001b[0;32mTrue\u001b[0m\u001b[0;34m)\u001b[0m\u001b[0;34m\u001b[0m\u001b[0;34m\u001b[0m\u001b[0m\n\u001b[0;32m---> 75\u001b[0;31m     \u001b[0;32mreturn\u001b[0m \u001b[0mrequest\u001b[0m\u001b[0;34m(\u001b[0m\u001b[0;34m'get'\u001b[0m\u001b[0;34m,\u001b[0m \u001b[0murl\u001b[0m\u001b[0;34m,\u001b[0m \u001b[0mparams\u001b[0m\u001b[0;34m=\u001b[0m\u001b[0mparams\u001b[0m\u001b[0;34m,\u001b[0m \u001b[0;34m**\u001b[0m\u001b[0mkwargs\u001b[0m\u001b[0;34m)\u001b[0m\u001b[0;34m\u001b[0m\u001b[0;34m\u001b[0m\u001b[0m\n\u001b[0m\u001b[1;32m     76\u001b[0m \u001b[0;34m\u001b[0m\u001b[0m\n\u001b[1;32m     77\u001b[0m \u001b[0;34m\u001b[0m\u001b[0m\n",
      "\u001b[0;32m~/anaconda3/lib/python3.7/site-packages/requests/api.py\u001b[0m in \u001b[0;36mrequest\u001b[0;34m(method, url, **kwargs)\u001b[0m\n\u001b[1;32m     58\u001b[0m     \u001b[0;31m# cases, and look like a memory leak in others.\u001b[0m\u001b[0;34m\u001b[0m\u001b[0;34m\u001b[0m\u001b[0;34m\u001b[0m\u001b[0m\n\u001b[1;32m     59\u001b[0m     \u001b[0;32mwith\u001b[0m \u001b[0msessions\u001b[0m\u001b[0;34m.\u001b[0m\u001b[0mSession\u001b[0m\u001b[0;34m(\u001b[0m\u001b[0;34m)\u001b[0m \u001b[0;32mas\u001b[0m \u001b[0msession\u001b[0m\u001b[0;34m:\u001b[0m\u001b[0;34m\u001b[0m\u001b[0;34m\u001b[0m\u001b[0m\n\u001b[0;32m---> 60\u001b[0;31m         \u001b[0;32mreturn\u001b[0m \u001b[0msession\u001b[0m\u001b[0;34m.\u001b[0m\u001b[0mrequest\u001b[0m\u001b[0;34m(\u001b[0m\u001b[0mmethod\u001b[0m\u001b[0;34m=\u001b[0m\u001b[0mmethod\u001b[0m\u001b[0;34m,\u001b[0m \u001b[0murl\u001b[0m\u001b[0;34m=\u001b[0m\u001b[0murl\u001b[0m\u001b[0;34m,\u001b[0m \u001b[0;34m**\u001b[0m\u001b[0mkwargs\u001b[0m\u001b[0;34m)\u001b[0m\u001b[0;34m\u001b[0m\u001b[0;34m\u001b[0m\u001b[0m\n\u001b[0m\u001b[1;32m     61\u001b[0m \u001b[0;34m\u001b[0m\u001b[0m\n\u001b[1;32m     62\u001b[0m \u001b[0;34m\u001b[0m\u001b[0m\n",
      "\u001b[0;32m~/anaconda3/lib/python3.7/site-packages/requests/sessions.py\u001b[0m in \u001b[0;36mrequest\u001b[0;34m(self, method, url, params, data, headers, cookies, files, auth, timeout, allow_redirects, proxies, hooks, stream, verify, cert, json)\u001b[0m\n\u001b[1;32m    531\u001b[0m         }\n\u001b[1;32m    532\u001b[0m         \u001b[0msend_kwargs\u001b[0m\u001b[0;34m.\u001b[0m\u001b[0mupdate\u001b[0m\u001b[0;34m(\u001b[0m\u001b[0msettings\u001b[0m\u001b[0;34m)\u001b[0m\u001b[0;34m\u001b[0m\u001b[0;34m\u001b[0m\u001b[0m\n\u001b[0;32m--> 533\u001b[0;31m         \u001b[0mresp\u001b[0m \u001b[0;34m=\u001b[0m \u001b[0mself\u001b[0m\u001b[0;34m.\u001b[0m\u001b[0msend\u001b[0m\u001b[0;34m(\u001b[0m\u001b[0mprep\u001b[0m\u001b[0;34m,\u001b[0m \u001b[0;34m**\u001b[0m\u001b[0msend_kwargs\u001b[0m\u001b[0;34m)\u001b[0m\u001b[0;34m\u001b[0m\u001b[0;34m\u001b[0m\u001b[0m\n\u001b[0m\u001b[1;32m    534\u001b[0m \u001b[0;34m\u001b[0m\u001b[0m\n\u001b[1;32m    535\u001b[0m         \u001b[0;32mreturn\u001b[0m \u001b[0mresp\u001b[0m\u001b[0;34m\u001b[0m\u001b[0;34m\u001b[0m\u001b[0m\n",
      "\u001b[0;32m~/anaconda3/lib/python3.7/site-packages/requests/sessions.py\u001b[0m in \u001b[0;36msend\u001b[0;34m(self, request, **kwargs)\u001b[0m\n\u001b[1;32m    644\u001b[0m \u001b[0;34m\u001b[0m\u001b[0m\n\u001b[1;32m    645\u001b[0m         \u001b[0;31m# Send the request\u001b[0m\u001b[0;34m\u001b[0m\u001b[0;34m\u001b[0m\u001b[0;34m\u001b[0m\u001b[0m\n\u001b[0;32m--> 646\u001b[0;31m         \u001b[0mr\u001b[0m \u001b[0;34m=\u001b[0m \u001b[0madapter\u001b[0m\u001b[0;34m.\u001b[0m\u001b[0msend\u001b[0m\u001b[0;34m(\u001b[0m\u001b[0mrequest\u001b[0m\u001b[0;34m,\u001b[0m \u001b[0;34m**\u001b[0m\u001b[0mkwargs\u001b[0m\u001b[0;34m)\u001b[0m\u001b[0;34m\u001b[0m\u001b[0;34m\u001b[0m\u001b[0m\n\u001b[0m\u001b[1;32m    647\u001b[0m \u001b[0;34m\u001b[0m\u001b[0m\n\u001b[1;32m    648\u001b[0m         \u001b[0;31m# Total elapsed time of the request (approximately)\u001b[0m\u001b[0;34m\u001b[0m\u001b[0;34m\u001b[0m\u001b[0;34m\u001b[0m\u001b[0m\n",
      "\u001b[0;32m~/anaconda3/lib/python3.7/site-packages/requests/adapters.py\u001b[0m in \u001b[0;36msend\u001b[0;34m(self, request, stream, timeout, verify, cert, proxies)\u001b[0m\n\u001b[1;32m    514\u001b[0m                 \u001b[0;32mraise\u001b[0m \u001b[0mSSLError\u001b[0m\u001b[0;34m(\u001b[0m\u001b[0me\u001b[0m\u001b[0;34m,\u001b[0m \u001b[0mrequest\u001b[0m\u001b[0;34m=\u001b[0m\u001b[0mrequest\u001b[0m\u001b[0;34m)\u001b[0m\u001b[0;34m\u001b[0m\u001b[0;34m\u001b[0m\u001b[0m\n\u001b[1;32m    515\u001b[0m \u001b[0;34m\u001b[0m\u001b[0m\n\u001b[0;32m--> 516\u001b[0;31m             \u001b[0;32mraise\u001b[0m \u001b[0mConnectionError\u001b[0m\u001b[0;34m(\u001b[0m\u001b[0me\u001b[0m\u001b[0;34m,\u001b[0m \u001b[0mrequest\u001b[0m\u001b[0;34m=\u001b[0m\u001b[0mrequest\u001b[0m\u001b[0;34m)\u001b[0m\u001b[0;34m\u001b[0m\u001b[0;34m\u001b[0m\u001b[0m\n\u001b[0m\u001b[1;32m    517\u001b[0m \u001b[0;34m\u001b[0m\u001b[0m\n\u001b[1;32m    518\u001b[0m         \u001b[0;32mexcept\u001b[0m \u001b[0mClosedPoolError\u001b[0m \u001b[0;32mas\u001b[0m \u001b[0me\u001b[0m\u001b[0;34m:\u001b[0m\u001b[0;34m\u001b[0m\u001b[0;34m\u001b[0m\u001b[0m\n",
      "\u001b[0;31mConnectionError\u001b[0m: HTTPSConnectionPool(host='play.google.com', port=443): Max retries exceeded with url: /store/apps/details?id=com.nextgames.android.ourworld (Caused by NewConnectionError('<urllib3.connection.VerifiedHTTPSConnection object at 0x7f5245aa0518>: Failed to establish a new connection: [Errno 101] Network is unreachable'))"
     ]
    }
   ],
   "source": [
    "get_app_ids(top_free_apps)"
   ]
  }
 ],
 "metadata": {
  "kernelspec": {
   "display_name": "Python 3",
   "language": "python",
   "name": "python3"
  },
  "language_info": {
   "codemirror_mode": {
    "name": "ipython",
    "version": 3
   },
   "file_extension": ".py",
   "mimetype": "text/x-python",
   "name": "python",
   "nbconvert_exporter": "python",
   "pygments_lexer": "ipython3",
   "version": "3.7.1"
  }
 },
 "nbformat": 4,
 "nbformat_minor": 2
}
