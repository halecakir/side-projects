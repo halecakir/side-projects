{
 "cells": [
  {
   "cell_type": "code",
   "execution_count": 1,
   "metadata": {},
   "outputs": [],
   "source": [
    "final_record_audio_patch = \"/home/huseyinalecakir/Security/data/play_store_data/permissionsList_357.txt\""
   ]
  },
  {
   "cell_type": "code",
   "execution_count": 7,
   "metadata": {},
   "outputs": [],
   "source": [
    "apps = []\n",
    "with open(final_record_audio_patch) as target:\n",
    "    for line in target:\n",
    "        if line.startswith(\"%%\"):\n",
    "            apps.append(line.split(\"%%\")[1].strip())\n",
    "            "
   ]
  },
  {
   "cell_type": "code",
   "execution_count": 10,
   "metadata": {},
   "outputs": [],
   "source": [
    "out_file = \"last_path_record_audio_357.txt\"\n",
    "with open(out_file, \"w\") as target:\n",
    "    for app in apps:\n",
    "        target.write(app+\"\\n\")"
   ]
  },
  {
   "cell_type": "code",
   "execution_count": 12,
   "metadata": {},
   "outputs": [
    {
     "name": "stdout",
     "output_type": "stream",
     "text": [
      "['com.jeyluta.timestampcamerafree', 'appli.speaky.com', 'talking.myasia.girl', 'com.pojkarsoft.easyselfie', 'com.pure.indosat.care', 'com.ebit.ebitcama', 'com.huya.nimogameassist', 'com.sleekbit.dormi', 'com.mayulinavarro.piroposparaconquistar', 'co.uk.getmondo', 'com.kauf.talking.sweetlittletalkingprincess', 'com.frojo.moy4.android', 'be.belfius.directmobile.android', 'com.junesoftware.nazara.cbrush', 'air.com.sensely.asknhs', 'com.voicenotebook.voicenotebook', 'com.turkcell.yaani', 'com.odosoft.unbornheart', 'com.eyet.meinschiff', 'hr.workline.app', 'com.billy.descargarmusicamp3gratis', 'com.appsinova.escanerdocumentos', 'binocular.cemlo.com.binoculars', 'br.com.couldsys.rockdrum', 'com.landon.callvideoclown.googlelite', 'com.hayanmind.mimiking', 'com.alicia.comodescargarybajarmusicafacilyrapidomp3guiatutorial', 'com.zlogic.glitchee', 'com.logmein.gototraining', 'com.keepcalling.ui', 'com.appsnew5000.frasesypiroposdeamorparaenamorarbonitas', 'com.kakao.taxi', 'com.englearner.listenandlearnpersiantoenglish', 'com.selfishop.art.camera', 'com.mingle.ItalianCupid', 'com.yandex.toloka.androidapp', 'com.anydesk.anydeskandroid', 'com.rababagames.hajwalah', 'com.mutua.mutua', 'com.c4mprod.voiturelib', 'com.bitrix24.android', 'jp.co.makita.makitamobiletools', 'com.ismartcreations.flashlightonclap', 'ipcamviewer.app.for_icam', 'com.lwi.android.flapps', 'com.FemaleVoiceChangerEditor.BestPhoneApps', 'com.blogpentingstudio.bassboosterbluetooth', 'com.tsua.unicorn.diary.lock', 'com.zapak.littlesinghamrun', 'photo.camera.hdcamera', 'com.vtechcamerahd.cameraoppof9', 'com.ronexvs.callsanta_claus', 'com.lily.talking.puppy', 'com.msf.kbank.mobile', 'com.mi.global.bbs', 'com.hungerstation.android.web', 'id.co.cimbniaga.mobile.android', 'com.shenyaocn.android.WebCam', 'com.zinkia.pocoyo_disco', 'com.cube26.osp.music', 'com.anhhoa.speakerfrommic', 'com.picmix.mobile', 'com.yfabrik.hocknfinder', 'com.guidena.descargarmusicafacilyrapidotutorialmovil', 'best.camera', 'equalizer.bassbooster', 'de.teamfunk.android.reversetalk', 'com.bancoagricola.bancamovil', 'com.dopelearning.minna', 'com.jhj.android.voicerecordinglite', 'vivotek.iviewer2.app', 'com.redteam.claptofind', 'com.burijas.camera', 'com.libiitech.monsterhairsalon', 'com.grupocajamar.wefferent', 'com.srctechnosoft.eazytype.hindi.free', 'es.cm.android.tablet', 'com.igg.castleclash_de', 'co.you.youapp', 'com.eco.global.app', 'com.softtech.parakod', 'com.mimundoapps.bajarmusicacristianagratisguia', 'com.anni.annke', 'com.upmc.healthplan', 'net.languagecourse.vt.fr', 'cl.bci.sismo.mach', 'video.vue.android', 'com.awabe.englishvocabulary', 'com.finchmil.thtclub', 'com.RK.voiceover', 'com.letsgokor.koreanfriends', 'com.wonderfulgames.talkingcatleo', 'com.dubshoot', 'es.caixagalicia.activamovil', 'com.ipart.android', 'com.roamdata.player.android.threex', 'se.nordea.mobilebank', 'com.ChinaMobile', 'ru.simpls.brs2.mobbank', 'com.socrear.frasesbonitas', 'com.appsnew5000.imagenesconfrasesbonitasdesaludosgratis', 'com.millcroft.pixelpen', 'xyz.livetalk', 'com.gi.talkingyoohoo', 'com.mcu.guardingvision', 'com.one.goodnight', 'net.languagecourse.vt.cs', 'com.tencent.radio', 'com.taobao.trip', 'com.tambucho.miagenda.trial', 'co.trebbble.android.wind.f2g', 'com.libii.cinderella', 'com.paymaya', 'com.junesoftware.nazara.cbup', 'com.alexkoi.baby', 'org.microemu.android.model.common.VTUserApplicationBNBJMB', 'com.libiitech.princesssalon', 'com.teacherapps.mukemmelhdkamera', 'uplayer.video.player', 'com.cam001.selfie361', 'es.ibercaja.ibercajaapp', 'com.hoctiengnhat.giaotiep', 'com.luzenlaoscuridad.comovertvhdgratisvercanalesenvivoguidetv4k', 'net.languagecourse.vt.nl', 'com.randomvideo.callgirlchat', 'com.oscarthecat.myvirtualpet', 'com.camera360.kingcamera', 'com.mytalkingpinocchio.virtualpet', 'br.com.rodrigokolb.electropads', 'com.meet.android', 'com.moniday.ear.spy.pro', 'com.camera.gistav11', 'com.ozzapps.imageneschistosasparabajar', 'com.snorelab.app', 'com.outfit7.talkingangelafree', 'com.mobile.rme', 'com.hi5.app', 'com.ringcentral.meetings', 'com.myvirtualpetgame.talkingpet', 'com.frojo.dino.android', 'com.tpas.pink.diary.lock.password.girls', 'com.inkitt.android.hermione', 'com.cisco.wx2.android', 'com.pcmehanik.measuretools', 'com.hp.impulse.sprocket', 'com.jpbrothers.android.pictail.sub10', 'com.godimage.ghostlens.free', 'com.appster', 'mobile.eup.mword', 'com.mobobi.realtalkingparrot', 'com.parrot.zik2', 'com.appbreakers.hdcamera', 'com.mediastudio.karaoke.singkaraoke', 'com.spbtv.mobilinktv', 'com.onexsoftech.flashlight.flashlightonclap', 'com.mytalkingelephant.virtualpet', 'com.VoiceChangerScary.ScaryRingtonesFromMovies.VoiceRecorderApp', 'com.appsjamile.tutorialparabajarmusicaalcelularguia', 'bass.booster.equalizer.music', 'com.chooseyourpals.blockcalls', 'com.wertyu.wprofesynelhdkamera', 'com.rcreations.ipcamviewerBasic', 'com.gworks.oneapp.works', 'honeyapps.sunkarenglishsikhe', 'anasun.telescope', 'com.tencent.weread', 'com.nuevoapper.vertvenvivogratisenespanoltodocanalesguia', 'at.tmobile.android.app.rbt', 'me.ele', 'hd.camera', 'english.funny.toeic.tienganh.hoc.tieng.anh', 'com.babilonm.app', 'com.frojo.loy.android', 'com.lily.times.dog1.all', 'com.patreon.android', 'com.gi.talkingpocoyofree', 'com.brocode.cctvcamera', 'pl.bzwbk.bzwbk24', 'de.ralphsapps.snorecontrol', 'com.flavionet.android.cinema.lite', 'com.redwolfama.peonylespark.gp', 'com.darwinbox.darwinbox', 'com.vss.vssmobile', 'net.tandem', 'com.tplink.skylight', 'com.bltalkie.shashavs.bluetoothtalkie2', 'com.atistudios.mondly.fi', 'batalsoft.band.live.rock', 'com.kauf.talking.talkingcatvsmouse', 'com.hikvision.hikconnect', 'com.loorj.telescope', 'com.libii.frozenparty', 'com.guideselect.bajarmusicayvideosgratisamicelularguide', 'jp.nokubi.nobapp.soundanalyzer.free', 'com.mysap.comodescargarmusicavideosguia', 'com.xonenext.clauschristmasns', 'com.chromaticzone.livemicrophone', 'com.nojoke.realpianoteacher', 'com.psychos.nightmodecam', 'anasun.macroshooting', 'com.junglerunnazara.com.junglerun.nazara', 'com.tsua.my.secret.diary.lock.photo', 'com.qiyi.video', 'com.usefullapps.whistlephonefinder', 'com.eventsair.attendeeapp', 'com.genesisblue01.tvenbvivotips', 'com.vimtag.vimtaga', 'co.infinum.nlb', 'com.githcode.zoomcamera.saman', 'com.synology.DScam', 'com.mobobi.asantetwibible', 'com.odvgroup.sirenssoundmelodiesmegapacksimulator', 'com.lily.tallking.game', 'com.appseducativas.cursodepsicologia', 'com.englearner.listenandlearnpashtotoenglish', 'com.eflasoft.fraespfree', 'com.sony.singstar', 'com.adnonstop.beautyCamera', 'com.tflat.tienganhlop13', 'com.smartgadgets.militaryspybinocluarscamerphotosandvideo', 'fr.snapp.fidme', 'com.ptapps.videocalling', 'com.frimustechnologies.claptofind', 'com.mt.slowmotionvideo.ashs.lavnya', 'com.oustme.oustapp', 'com.tattoo.maker.design.app', 'com.otromundobello.comovertelevisiongratisyfacilenmicelularen4kguides', 'com.trendmicro.tmas', 'com.yy.ljby2tw', 'com.monect.portable', 'com.mobobi.talkingsanta', 'com.goodbaby.babycam', 'com.camsurf.android', 'com.gi.elmundo.main', 'mp3.cutter.ringtone.maker.trimmer', 'com.twincorp.bancaonline', 'com.lily.talking.dog', 'com.tmsoft.whitenoise.lite', 'com.makewonder.blockly', 'com.wwm.nightowlx', 'menhair.girlsvoicechanger', 'com.cudu.translator', 'pl.netigen.simplebassguitartuner', 'de.ones.eon.csc', 'voice.change.voicechanger.effect', 'com.wepehome.virtualdj.mixermp3', 'com.screenvideorecorder.livestreamfb', 'com.anytalkapp', 'com.schwab.mobile', 'com.powerapps1956.videostutorial', 'com.LTS.NVMS7000', 'com.awabe.englishkids', 'com.jsc.highqualityvoicerecorder', 'com.budgestudios.StrawberryShortcakeBerryfestParty', 'com.search.gurbani.ui', 'com.deisyapps.bajarvideosamicelularrapidoyfacilguia', 'com.bluebodysoft.talkingmermaid', 'com.csod.mobile.CSOD', 'com.githcode.digital.saman', 'com.camera.gistacanon2', 'com.mysap.comodescargarmusicamicelular', 'com.nuevoapper.verfutbolenvivoyendirectogratisonlineguia', 'com.qnstudio.hatkaraoke', 'com.pregnantcatemma.virtualpet', 'com.chuladapps.mirartvenvivogratisenespanolguia', 'de.dastelefonbuch.android', 'com.dylvian.mango.activities', 'espanolspanish.inglesenglish.translator', 'com.vybesoftwarellc.leia', 'com.iflytek.freeringtones', 'com.cameraopo.selfieexpert', 'com.narvii.amino.x219280721', 'com.camera.panoramic', 'ru.yandex.searchplugin.beta', 'com.ysiapps.musicaonlinegratisradiosguia', 'com.beautyvideo.photovideomaker.videoshow', 'com.immediasemi.android.blink', 'io.lingvist.android', 'com.bluesoft.clonappmessenger', 'com.rosagarrido.frasesdeamoryversosbonitos', 'english.funny.game.vocabulary', 'com.eventbrite.organizer', 'fit.cure.android', 'com.nhn.android.naverdic', 'kr.co.iconix.pororotv', 'com.lily.times.rabbit1.all', 'com.prankworld.voicechanger', 'com.voicecorder.bestrecorder.audiorecorder', 'com.brunopiovan.avozdazueira', 'com.packagefromsanta.callfromsanta', 'com.alterco.safewatch_kiddo', 'com.avira.android', 'com.shenzhen.android.orbit', 'com.freeconferencecall.sipphone.fcchd', 'tools.audio.sound.voice.recorder', 'com.camerahd.pro.dslr4k', 'com.tafayor.selfcamerashot', 'com.atistudios.mondly.languages', 'com.jesture.phoenix', 'io.myhack', 'com.kauf.talking.baum.TalkingDonaldDonkey', 'com.airwatch.contentlocker', 'com.bigbeep.candle', 'com.unit11apps.highwaysagency', 'com.papenmeier.wifibabymonitor.free', 'com.chineseskill', 'kasiltech.dictionary', 'ru.org.familytree', 'masih.vahida.privatewalkietalkie', 'com.lein.pppoker.android', 'com.fr_solutions.ielts.speaking', 'com.sudy.gay', 'ht.nct', 'com.Locos.MBS', 'com.telestar.voicechangeip', 'com.sphero.starwars', 'com.pocketuniverse.ike', 'com.musicamasimagenes.comodescargarybajarvideosymusicaamicelularguiatutorial', 'com.smartfrog.app', 'com.dailylife.communication', 'com.mayulinavarro.frasesdemotivacionconimagenes', 'com.idspe.cubdayz', 'masih.vahida.serverwalkietalkie', 'de.check24.reisen', 'com.ibaby', 'com.video.chat.spark', 'live.alohanow', 'com.urbandroid.hue', 'com.turkcellplatinum.main', 'com.frojo.bear', 'hd.photo.video.selfie.camera', 'com.pbideasvirtuales.radioscristianasenespanol', 'com.qbesoft.vipcallprank', 'com.asquaremobileapps.videocutter.audiovideomixer', 'com.laugh.talking.tiger', 'com.jsc.levelmetervoicerecorder', 'com.gi.talkingpato', 'com.yosep.comobajarvideosdefacebookgratis', 'com.kafuiutils', 'com.TeaM.AvatarMusikWorld', 'com.offlinesing.musickaraoke', 'kx.music.equalizer.player', 'com.singtel.mysingtel', 'meram.tip.mr', 'com.mobilesrepublic.appy', 'com.panda.tallking.game', 'com.potatolabs.banana', 'net.sourceforge.freecamera', 'com.junesoftware.nazara.cbtoy', 'com.lndapp.frasesindirectas', 'com.xewton.musicstudiolite', 'com.appsdeamor.comobajarmusicayvideosgratisamicelularguides2018', 'com.hubspot.android', 'com.kamagames.pokerist', 'com.kikuu', 'com.billy.descargarmusicayvideos', 'com.astroframe.seoulbus']\n"
     ]
    }
   ],
   "source": []
  },
  {
   "cell_type": "code",
   "execution_count": 11,
   "metadata": {},
   "outputs": [],
   "source": [
    "import requests\n"
   ]
  },
  {
   "cell_type": "code",
   "execution_count": 14,
   "metadata": {},
   "outputs": [],
   "source": [
    "base_url = 'http://localhost:3000/api/apps/'\n",
    "categories = {}\n",
    "for app in apps:\n",
    "    response = requests.get(base_url+app)\n",
    "    if response.status_code == 200:\n",
    "        gid = response.json()[\"genreId\"].upper()\n",
    "        if gid not in categories:\n",
    "            categories[gid] = 0\n",
    "        categories[gid] += 1"
   ]
  },
  {
   "cell_type": "code",
   "execution_count": 17,
   "metadata": {},
   "outputs": [],
   "source": [
    "import operator\n",
    "sorted_categories = sorted(categories.items(), key=operator.itemgetter(1), reverse=True)"
   ]
  },
  {
   "cell_type": "code",
   "execution_count": 19,
   "metadata": {},
   "outputs": [
    {
     "name": "stdout",
     "output_type": "stream",
     "text": [
      "ENTERTAINMENT 46\n",
      "TOOLS 37\n",
      "PHOTOGRAPHY 36\n",
      "EDUCATION 34\n",
      "GAME_CASUAL 25\n",
      "MUSIC_AND_AUDIO 20\n",
      "FINANCE 19\n",
      "BUSINESS 15\n",
      "COMMUNICATION 14\n",
      "SOCIAL 12\n",
      "PRODUCTIVITY 12\n",
      "LIFESTYLE 11\n",
      "VIDEO_PLAYERS 11\n",
      "HEALTH_AND_FITNESS 6\n",
      "TRAVEL_AND_LOCAL 6\n",
      "GAME_MUSIC 5\n",
      "GAME_EDUCATIONAL 5\n",
      "BOOKS_AND_REFERENCE 5\n",
      "SHOPPING 4\n",
      "DATING 4\n",
      "PERSONALIZATION 3\n",
      "GAME_SIMULATION 3\n",
      "PARENTING 2\n",
      "MAPS_AND_NAVIGATION 2\n",
      "HOUSE_AND_HOME 2\n",
      "GAME_ACTION 2\n",
      "NEWS_AND_MAGAZINES 2\n",
      "MEDICAL 1\n",
      "GAME_RACING 1\n",
      "GAME_ARCADE 1\n",
      "FOOD_AND_DRINK 1\n",
      "GAME_STRATEGY 1\n",
      "GAME_PUZZLE 1\n",
      "LIBRARIES_AND_DEMO 1\n",
      "SPORTS 1\n",
      "ART_AND_DESIGN 1\n",
      "GAME_CASINO 1\n",
      "GAME_BOARD 1\n",
      "GAME_CARD 1\n"
     ]
    }
   ],
   "source": [
    "total = 0\n",
    "for line in sorted_categories:\n",
    "    print(line[0], line[1])\n",
    "print(\"Total : \", )"
   ]
  }
 ],
 "metadata": {
  "kernelspec": {
   "display_name": "Python 3",
   "language": "python",
   "name": "python3"
  },
  "language_info": {
   "codemirror_mode": {
    "name": "ipython",
    "version": 3
   },
   "file_extension": ".py",
   "mimetype": "text/x-python",
   "name": "python",
   "nbconvert_exporter": "python",
   "pygments_lexer": "ipython3",
   "version": "3.7.1"
  }
 },
 "nbformat": 4,
 "nbformat_minor": 2
}
