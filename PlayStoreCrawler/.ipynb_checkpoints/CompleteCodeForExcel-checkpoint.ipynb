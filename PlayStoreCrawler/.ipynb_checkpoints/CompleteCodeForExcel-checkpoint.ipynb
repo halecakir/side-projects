{
 "cells": [
  {
   "cell_type": "code",
   "execution_count": null,
   "metadata": {},
   "outputs": [],
   "source": [
    "import requests\n",
    "import time\n",
    "import csv\n",
    "import pandas as pd\n",
    "from pandas import ExcelWriter\n",
    "from pandas import ExcelFile\n",
    "import requests\n",
    "import numpy as np"
   ]
  },
  {
   "cell_type": "code",
   "execution_count": 2,
   "metadata": {},
   "outputs": [],
   "source": [
    "def get_descriptions(id_file, out_file):\n",
    "    #Get application ids beforehand\n",
    "    app_infos = {}\n",
    "    with open(id_file, \"r\") as target:\n",
    "        for app_id in target:\n",
    "            app_infos[app_id.rstrip()] = None\n",
    "\n",
    "    #Get application descriptions\n",
    "    base_url = \"http://localhost:3000/api/apps/\"\n",
    "    lang = \"/?lang=en\"\n",
    "    with open(out_file, \"w\") as out:\n",
    "        writer = csv.writer(out)\n",
    "        writer.writerow([\"application_id\", \"description\"])\n",
    "        for app_id in app_infos:\n",
    "            response = requests.get(base_url+app_id+lang)\n",
    "            if response.status_code == 200:\n",
    "                if \"description\" in response.json():\n",
    "                    writer.writerow([app_id, response.json()[\"description\"]])\n",
    "                    "
   ]
  },
  {
   "cell_type": "code",
   "execution_count": null,
   "metadata": {},
   "outputs": [],
   "source": [
    "def get_app_category(app_id):\n",
    "    base_url = 'http://localhost:3000/api/apps/'\n",
    "    response = requests.get(base_url+app_id)\n",
    "    if response.status_code == 200:\n",
    "        if \"genreId\" not in response.json():\n",
    "            print(\"Not found genre id in\", app_id)\n",
    "            return \"NOT_FOUND\"\n",
    "        else:\n",
    "            gid = response.json()[\"genreId\"].upper()\n",
    "            print(app_id, gid)\n",
    "            return gid\n",
    "    else:\n",
    "        print(app_id, \" category cannot be found\")\n",
    "        return \"NOT_FOUND\""
   ]
  },
  {
   "cell_type": "code",
   "execution_count": null,
   "metadata": {},
   "outputs": [],
   "source": [
    "def update_sheets(file_name, sheetname):\n",
    "    df = pd.read_excel(file_name, sheet_name=sheetname)\n",
    "    data = []\n",
    "    for index, row in df.iterrows():\n",
    "        data.append([row[\"Count\"], row[\"Sentences\"], row[\"Manually Marked\"], row[\"uses-permission\"], row[\"permission\"]])\n",
    "    updated_data = []\n",
    "    app_order = 1\n",
    "    description_tag = None\n",
    "    for row in data:\n",
    "        row[1] = str(row[1])\n",
    "        if row[1].startswith(\"##\"):\n",
    "            if app_order != 1:\n",
    "                description_row = [np.nan, \"Description Tag\", description_tag, np.nan, np.nan]\n",
    "                updated_data.append(description_row)\n",
    "            row[0] = \"##{}\".format(app_order)\n",
    "            app_order += 1\n",
    "            app_id = row[1].split(\"##\")[1].strip()\n",
    "            category = get_app_category(app_id)\n",
    "            app_category = \"CATEGORY/\" + category\n",
    "            category_row = [np.nan, app_category , np.nan, np.nan, np.nan]\n",
    "            description_tag = row[2]\n",
    "            row[2] = np.nan\n",
    "            updated_data.append(row)\n",
    "            updated_data.append(category_row)\n",
    "        else:\n",
    "            updated_data.append(row)\n",
    "    return updated_data"
   ]
  },
  {
   "cell_type": "code",
   "execution_count": null,
   "metadata": {},
   "outputs": [],
   "source": [
    "def write_to_excel(updated_data, output_file):\n",
    "    def background_apply(value):\n",
    "        if value.startswith(\"##\") or value.startswith(\"Description Tag\"):\n",
    "            font_weight = 'bold'\n",
    "        else:\n",
    "            font_weight = 'normal'\n",
    "        return 'font-weight: %s' % font_weight\n",
    "    \n",
    "    updated_df = pd.DataFrame(updated_data, columns = [\"Count\", \"Sentences\", \"Manually Marked\", \"uses-permission\", \"permission\"])\n",
    "    styled = updated_df.style.applymap(background_apply, subset=['Sentences'])\n",
    "    styled.to_excel(output_file, engine='openpyxl')"
   ]
  },
  {
   "cell_type": "code",
   "execution_count": null,
   "metadata": {},
   "outputs": [],
   "source": [
    "ID_FILE = \"Apps_ReadContacts_989_id.txt\"\n",
    "OUT_FILE = \"Apps_ReadContacts_989_id.csv\"\n",
    "get_descriptions(ID_FILE, OUT_FILE)"
   ]
  }
 ],
 "metadata": {
  "kernelspec": {
   "display_name": "Python 3",
   "language": "python",
   "name": "python3"
  },
  "language_info": {
   "codemirror_mode": {
    "name": "ipython",
    "version": 3
   },
   "file_extension": ".py",
   "mimetype": "text/x-python",
   "name": "python",
   "nbconvert_exporter": "python",
   "pygments_lexer": "ipython3",
   "version": "3.7.1"
  }
 },
 "nbformat": 4,
 "nbformat_minor": 2
}
