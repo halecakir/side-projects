{
 "cells": [
  {
   "cell_type": "code",
   "execution_count": 1,
   "metadata": {},
   "outputs": [],
   "source": [
    "import csv"
   ]
  },
  {
   "cell_type": "code",
   "execution_count": 2,
   "metadata": {},
   "outputs": [],
   "source": [
    "def read_tagged_csv(file_name):\n",
    "    sentences = []\n",
    "    with open(file_name, 'r') as csvFile:\n",
    "        reader = csv.reader(csvFile)\n",
    "        for row in reader:\n",
    "            sentences.append(row)\n",
    "    return sentences"
   ]
  },
  {
   "cell_type": "code",
   "execution_count": 55,
   "metadata": {},
   "outputs": [],
   "source": [
    "huseyin = read_tagged_csv(\"huseyin.csv\")\n",
    "sevil = read_tagged_csv(\"sevil.csv\")"
   ]
  },
  {
   "cell_type": "code",
   "execution_count": 56,
   "metadata": {},
   "outputs": [],
   "source": [
    "def compare(l1, l2, count=1000):\n",
    "    equal_zero = 0\n",
    "    equal_one = 0\n",
    "    not_equal = 0\n",
    "    total = 0\n",
    "    first_one = 0\n",
    "    second_one = 0\n",
    "    first_true_second_false = 0\n",
    "    second_true_first_false = 0\n",
    "    for idx, (s1, s2) in zip(range(count),zip(l1, l2)):\n",
    "        if not s1[1].startswith(\"##\"):\n",
    "            total += 1\n",
    "            st1, st2 = s1[2].strip(), s2[2].strip() \n",
    "            if st1 == '1':\n",
    "                first_one += 1\n",
    "                if st2 == '0':\n",
    "                    first_true_second_false += 1\n",
    "            if st2 == '1':\n",
    "                second_one += 1\n",
    "                if st1 == '0':\n",
    "                    second_true_first_false += 1\n",
    "                \n",
    "            if st1 == st2:\n",
    "                if st1 == '1':\n",
    "                    equal_one += 1\n",
    "                else:\n",
    "                    equal_zero += 1\n",
    "            else:\n",
    "                not_equal += 1\n",
    "    print(\"Equal zero : \", equal_zero)\n",
    "    print(\"Equal one : \", equal_one)\n",
    "    print(\"Total equal : \", equal_one + equal_zero)\n",
    "    print(\"Not equal : \", not_equal)\n",
    "    print(\"Total : \", total)\n",
    "    print('----')\n",
    "    print(\"Huseyin tagged as true : \", first_one)\n",
    "    print(\"Sevil tagged as true : \", second_one)\n",
    "    print(\"Huseyin tagged as true and Sevil false: \", first_true_second_false)\n",
    "    print(\"Sevil tagged as true and Huseyin false: \", second_true_first_false)\n",
    "    "
   ]
  },
  {
   "cell_type": "code",
   "execution_count": 57,
   "metadata": {},
   "outputs": [],
   "source": [
    "def compare_strings(l1, l2, print_str, count=1000):\n",
    "    \n",
    "    for idx, (s1, s2) in zip(range(count),zip(l1, l2)):\n",
    "        if not s1[1].startswith(\"##\"):\n",
    "            st1, st2 = s1[2].strip(), s2[2].strip() \n",
    "            if st1 == '1':\n",
    "                if st2 == '0':\n",
    "                    if print_str == \"only_huseyin\":\n",
    "                        print(s1[1])\n",
    "            if st2 == '1':\n",
    "                if st1 == '0':\n",
    "                    if print_str == \"only_sevil\":\n",
    "                        print(s1[1])\n",
    "                \n"
   ]
  },
  {
   "cell_type": "code",
   "execution_count": 58,
   "metadata": {
    "scrolled": false
   },
   "outputs": [
    {
     "name": "stdout",
     "output_type": "stream",
     "text": [
      "Equal zero :  2648\n",
      "Equal one :  65\n",
      "Total equal :  2713\n",
      "Not equal :  185\n",
      "Total :  2898\n",
      "----\n",
      "Huseyin tagged as true :  166\n",
      "Sevil tagged as true :  98\n",
      "Huseyin tagged as true and Sevil false:  84\n",
      "Sevil tagged as true and Huseyin false:  31\n"
     ]
    }
   ],
   "source": [
    "compare(huseyin, sevil, 3000)"
   ]
  },
  {
   "cell_type": "code",
   "execution_count": 61,
   "metadata": {
    "scrolled": false
   },
   "outputs": [
    {
     "name": "stdout",
     "output_type": "stream",
     "text": [
      "Recordings saved on your phone storage and can be easily accessed later.\n",
      "Unlimited number of recordings\n",
      "Free your hands by using Voice Input!\n",
      "Just type your questions or use voice commands.\n",
      "Send text and voice messages as well as photos and stickers to your friends and groups.\n",
      "VOICE CHAT.\n",
      "This application allows 24/7/365 video surveillance  by means of your smartphone camera & microphone.\n"
     ]
    }
   ],
   "source": [
    "compare_strings(huseyin, sevil, \"only_huseyin\")"
   ]
  }
 ],
 "metadata": {
  "kernelspec": {
   "display_name": "Python 3",
   "language": "python",
   "name": "python3"
  },
  "language_info": {
   "codemirror_mode": {
    "name": "ipython",
    "version": 3
   },
   "file_extension": ".py",
   "mimetype": "text/x-python",
   "name": "python",
   "nbconvert_exporter": "python",
   "pygments_lexer": "ipython3",
   "version": "3.7.1"
  }
 },
 "nbformat": 4,
 "nbformat_minor": 2
}
